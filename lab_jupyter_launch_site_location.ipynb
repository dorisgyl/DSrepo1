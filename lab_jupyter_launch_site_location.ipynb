{
  "metadata": {
    "kernelspec": {
      "name": "python",
      "display_name": "Python (Pyodide)",
      "language": "python"
    },
    "language_info": {
      "codemirror_mode": {
        "name": "python",
        "version": 3
      },
      "file_extension": ".py",
      "mimetype": "text/x-python",
      "name": "python",
      "nbconvert_exporter": "python",
      "pygments_lexer": "ipython3",
      "version": "3.8"
    },
    "prev_pub_hash": "a1e07037ecf90574d84d006d73125e5bbccf63ea401896587709482e7760fcbf"
  },
  "nbformat_minor": 4,
  "nbformat": 4,
  "cells": [
    {
      "cell_type": "markdown",
      "source": "<p style=\"text-align:center\">\n    <a href=\"https://skills.network/?utm_medium=Exinfluencer&utm_source=Exinfluencer&utm_content=000026UJ&utm_term=10006555&utm_id=NA-SkillsNetwork-Channel-SkillsNetworkCoursesIBMDS0321ENSkillsNetwork26802033-2022-01-01\" target=\"_blank\">\n    <img src=\"https://cf-courses-data.s3.us.cloud-object-storage.appdomain.cloud/assets/logos/SN_web_lightmode.png\" width=\"200\" alt=\"Skills Network Logo\">\n    </a>\n</p>\n",
      "metadata": {}
    },
    {
      "cell_type": "markdown",
      "source": "# **Launch Sites Locations Analysis with Folium**\n",
      "metadata": {}
    },
    {
      "cell_type": "markdown",
      "source": "Estimated time needed: **40** minutes\n",
      "metadata": {}
    },
    {
      "cell_type": "markdown",
      "source": "The launch success rate may depend on many factors such as payload mass, orbit type, and so on. It may also depend on the location and proximities of a launch site, i.e., the initial position of rocket trajectories. Finding an optimal location for building a launch site certainly involves many factors and hopefully we could discover some of the factors by analyzing the existing launch site locations.\n",
      "metadata": {}
    },
    {
      "cell_type": "markdown",
      "source": "In the previous exploratory data analysis labs, you have visualized the SpaceX launch dataset using `matplotlib` and `seaborn` and discovered some preliminary correlations between the launch site and success rates. In this lab, you will be performing more interactive visual analytics using `Folium`.\n",
      "metadata": {}
    },
    {
      "cell_type": "markdown",
      "source": "## Objectives\n",
      "metadata": {}
    },
    {
      "cell_type": "markdown",
      "source": "This lab contains the following tasks:\n\n*   **TASK 1:** Mark all launch sites on a map\n*   **TASK 2:** Mark the success/failed launches for each site on the map\n*   **TASK 3:** Calculate the distances between a launch site to its proximities\n\nAfter completed the above tasks, you should be able to find some geographical patterns about launch sites.\n",
      "metadata": {}
    },
    {
      "cell_type": "markdown",
      "source": "Let's first import required Python packages for this lab:\n",
      "metadata": {}
    },
    {
      "cell_type": "code",
      "source": "import piplite\nawait piplite.install(['folium'])\nawait piplite.install(['pandas'])",
      "metadata": {
        "trusted": true
      },
      "outputs": [],
      "execution_count": 2
    },
    {
      "cell_type": "code",
      "source": "import folium\nimport pandas as pd",
      "metadata": {
        "trusted": true
      },
      "outputs": [],
      "execution_count": 3
    },
    {
      "cell_type": "code",
      "source": "# Import folium MarkerCluster plugin\nfrom folium.plugins import MarkerCluster\n# Import folium MousePosition plugin\nfrom folium.plugins import MousePosition\n# Import folium DivIcon plugin\nfrom folium.features import DivIcon",
      "metadata": {
        "trusted": true
      },
      "outputs": [],
      "execution_count": 4
    },
    {
      "cell_type": "markdown",
      "source": "If you need to refresh your memory about folium, you may download and refer to this previous folium lab:\n",
      "metadata": {}
    },
    {
      "cell_type": "markdown",
      "source": "[Generating Maps with Python](https://cf-courses-data.s3.us.cloud-object-storage.appdomain.cloud/IBM-DS0321EN-SkillsNetwork/labs/module\\_3/DV0101EN-3-5-1-Generating-Maps-in-Python-py-v2.0.ipynb)\n",
      "metadata": {}
    },
    {
      "cell_type": "code",
      "source": "## Task 1: Mark all launch sites on a map\nimport folium\nimport pandas as pd\nfrom folium.plugins import MarkerCluster\nfrom folium.plugins import MousePosition\nfrom folium.features import DivIcon\n\n# Create a DataFrame that contains the launch site data\nlaunch_sites_df = pd.DataFrame({\n    'Site': ['Kennedy Space Center', 'Cape Canaveral', 'Vandenberg SFB', 'Baikonur Cosmodrome'],\n    'Lat': [28.5729, 28.4894, 34.7420, 45.9646],\n    'Long': [-80.6490, -80.5769, -120.5724, 63.3052]\n})\n\nlaunch_sites_map = folium.Map(location=[0, 0], zoom_start=2)\n\nmarker_cluster = MarkerCluster().add_to(launch_sites_map)\n\n\nfor idx, row in launch_sites_df.iterrows():\n    folium.Marker(\n        location=[row['Lat'], row['Long']],\n        popup=row['Site'],\n        icon=folium.Icon(color='red', icon='info-sign')\n    ).add_to(marker_cluster)\n\nformatter = \"function(num) {return L.Util.formatNum(num, 5);};\"\nmouse_position = MousePosition(\n    position='bottomleft',\n    separator=' | ',\n    empty_string='NaN',\n    lng_first=True,\n    num_digits=20,\n    prefix='Coordinates:',\n    lat_formatter=formatter,\n    lng_formatter=formatter\n)\nlaunch_sites_map.add_child(mouse_position)\n\nlegend_html = '''\n    <div style=\"position: fixed; bottom: 50px; left: 50px; width: 120px; height: 90px; \n    border:2px solid grey; z-index:9999; font-size:14px; background-color:white;\n    \">&nbsp; Launch Sites <br>\n    &nbsp; <i class=\"fa fa-map-marker fa-2x\" style=\"color:red\"></i> \n    </div>\n'''\nlaunch_sites_map.get_root().html.add_child(folium.Element(legend_html))\n\nlaunch_sites_map",
      "metadata": {
        "trusted": true
      },
      "outputs": [
        {
          "execution_count": 11,
          "output_type": "execute_result",
          "data": {
            "text/plain": "<folium.folium.Map at 0x6d41740>",
            "text/html": "<div style=\"width:100%;\"><div style=\"position:relative;width:100%;height:0;padding-bottom:60%;\"><span style=\"color:#565656\">Make this Notebook Trusted to load map: File -> Trust Notebook</span><iframe srcdoc=\"&lt;!DOCTYPE html&gt;\n&lt;html&gt;\n&lt;head&gt;\n    \n    &lt;meta http-equiv=&quot;content-type&quot; content=&quot;text/html; charset=UTF-8&quot; /&gt;\n    \n        &lt;script&gt;\n            L_NO_TOUCH = false;\n            L_DISABLE_3D = false;\n        &lt;/script&gt;\n    \n    &lt;style&gt;html, body {width: 100%;height: 100%;margin: 0;padding: 0;}&lt;/style&gt;\n    &lt;style&gt;#map {position:absolute;top:0;bottom:0;right:0;left:0;}&lt;/style&gt;\n    &lt;script src=&quot;https://cdn.jsdelivr.net/npm/leaflet@1.9.3/dist/leaflet.js&quot;&gt;&lt;/script&gt;\n    &lt;script src=&quot;https://code.jquery.com/jquery-3.7.1.min.js&quot;&gt;&lt;/script&gt;\n    &lt;script src=&quot;https://cdn.jsdelivr.net/npm/bootstrap@5.2.2/dist/js/bootstrap.bundle.min.js&quot;&gt;&lt;/script&gt;\n    &lt;script src=&quot;https://cdnjs.cloudflare.com/ajax/libs/Leaflet.awesome-markers/2.0.2/leaflet.awesome-markers.js&quot;&gt;&lt;/script&gt;\n    &lt;link rel=&quot;stylesheet&quot; href=&quot;https://cdn.jsdelivr.net/npm/leaflet@1.9.3/dist/leaflet.css&quot;/&gt;\n    &lt;link rel=&quot;stylesheet&quot; href=&quot;https://cdn.jsdelivr.net/npm/bootstrap@5.2.2/dist/css/bootstrap.min.css&quot;/&gt;\n    &lt;link rel=&quot;stylesheet&quot; href=&quot;https://netdna.bootstrapcdn.com/bootstrap/3.0.0/css/bootstrap-glyphicons.css&quot;/&gt;\n    &lt;link rel=&quot;stylesheet&quot; href=&quot;https://cdn.jsdelivr.net/npm/@fortawesome/fontawesome-free@6.2.0/css/all.min.css&quot;/&gt;\n    &lt;link rel=&quot;stylesheet&quot; href=&quot;https://cdnjs.cloudflare.com/ajax/libs/Leaflet.awesome-markers/2.0.2/leaflet.awesome-markers.css&quot;/&gt;\n    &lt;link rel=&quot;stylesheet&quot; href=&quot;https://cdn.jsdelivr.net/gh/python-visualization/folium/folium/templates/leaflet.awesome.rotate.min.css&quot;/&gt;\n    \n            &lt;meta name=&quot;viewport&quot; content=&quot;width=device-width,\n                initial-scale=1.0, maximum-scale=1.0, user-scalable=no&quot; /&gt;\n            &lt;style&gt;\n                #map_5be1bb8f9c5299caac41120f26abbad5 {\n                    position: relative;\n                    width: 100.0%;\n                    height: 100.0%;\n                    left: 0.0%;\n                    top: 0.0%;\n                }\n                .leaflet-container { font-size: 1rem; }\n            &lt;/style&gt;\n        \n    &lt;script src=&quot;https://cdnjs.cloudflare.com/ajax/libs/leaflet.markercluster/1.1.0/leaflet.markercluster.js&quot;&gt;&lt;/script&gt;\n    &lt;link rel=&quot;stylesheet&quot; href=&quot;https://cdnjs.cloudflare.com/ajax/libs/leaflet.markercluster/1.1.0/MarkerCluster.css&quot;/&gt;\n    &lt;link rel=&quot;stylesheet&quot; href=&quot;https://cdnjs.cloudflare.com/ajax/libs/leaflet.markercluster/1.1.0/MarkerCluster.Default.css&quot;/&gt;\n    &lt;script src=&quot;https://cdn.jsdelivr.net/gh/ardhi/Leaflet.MousePosition/src/L.Control.MousePosition.min.js&quot;&gt;&lt;/script&gt;\n    &lt;link rel=&quot;stylesheet&quot; href=&quot;https://cdn.jsdelivr.net/gh/ardhi/Leaflet.MousePosition/src/L.Control.MousePosition.min.css&quot;/&gt;\n&lt;/head&gt;\n&lt;body&gt;\n    \n    \n    &lt;div style=&quot;position: fixed; bottom: 50px; left: 50px; width: 120px; height: 90px; \n    border:2px solid grey; z-index:9999; font-size:14px; background-color:white;\n    &quot;&gt;&amp;nbsp; Launch Sites &lt;br&gt;\n    &amp;nbsp; &lt;i class=&quot;fa fa-map-marker fa-2x&quot; style=&quot;color:red&quot;&gt;&lt;/i&gt; \n    &lt;/div&gt;\n    \n            &lt;div class=&quot;folium-map&quot; id=&quot;map_5be1bb8f9c5299caac41120f26abbad5&quot; &gt;&lt;/div&gt;\n        \n&lt;/body&gt;\n&lt;script&gt;\n    \n    \n            var map_5be1bb8f9c5299caac41120f26abbad5 = L.map(\n                &quot;map_5be1bb8f9c5299caac41120f26abbad5&quot;,\n                {\n                    center: [0.0, 0.0],\n                    crs: L.CRS.EPSG3857,\n                    zoom: 2,\n                    zoomControl: true,\n                    preferCanvas: false,\n                }\n            );\n\n            \n\n        \n    \n            var tile_layer_6a71bad0e95e066b23875d2cff50963b = L.tileLayer(\n                &quot;https://tile.openstreetmap.org/{z}/{x}/{y}.png&quot;,\n                {&quot;attribution&quot;: &quot;\\u0026copy; \\u003ca href=\\&quot;https://www.openstreetmap.org/copyright\\&quot;\\u003eOpenStreetMap\\u003c/a\\u003e contributors&quot;, &quot;detectRetina&quot;: false, &quot;maxNativeZoom&quot;: 19, &quot;maxZoom&quot;: 19, &quot;minZoom&quot;: 0, &quot;noWrap&quot;: false, &quot;opacity&quot;: 1, &quot;subdomains&quot;: &quot;abc&quot;, &quot;tms&quot;: false}\n            );\n        \n    \n            tile_layer_6a71bad0e95e066b23875d2cff50963b.addTo(map_5be1bb8f9c5299caac41120f26abbad5);\n        \n    \n            var marker_cluster_831ef6bd2c4f99530ade13b74d424fa6 = L.markerClusterGroup(\n                {}\n            );\n        \n    \n            var marker_4ae8664e5ddaec62f0736e401342fb0d = L.marker(\n                [28.5729, -80.649],\n                {}\n            ).addTo(marker_cluster_831ef6bd2c4f99530ade13b74d424fa6);\n        \n    \n            var icon_b46aa47a05a547f84aaa470eac42717e = L.AwesomeMarkers.icon(\n                {&quot;extraClasses&quot;: &quot;fa-rotate-0&quot;, &quot;icon&quot;: &quot;info-sign&quot;, &quot;iconColor&quot;: &quot;white&quot;, &quot;markerColor&quot;: &quot;red&quot;, &quot;prefix&quot;: &quot;glyphicon&quot;}\n            );\n            marker_4ae8664e5ddaec62f0736e401342fb0d.setIcon(icon_b46aa47a05a547f84aaa470eac42717e);\n        \n    \n        var popup_7ac19264deac518e00d6b43262614025 = L.popup({&quot;maxWidth&quot;: &quot;100%&quot;});\n\n        \n            \n                var html_3b486a5799393b853811d1b6bd0c7a71 = $(`&lt;div id=&quot;html_3b486a5799393b853811d1b6bd0c7a71&quot; style=&quot;width: 100.0%; height: 100.0%;&quot;&gt;Kennedy Space Center&lt;/div&gt;`)[0];\n                popup_7ac19264deac518e00d6b43262614025.setContent(html_3b486a5799393b853811d1b6bd0c7a71);\n            \n        \n\n        marker_4ae8664e5ddaec62f0736e401342fb0d.bindPopup(popup_7ac19264deac518e00d6b43262614025)\n        ;\n\n        \n    \n    \n            var marker_ed61180a79d17496b09829f48e9d4900 = L.marker(\n                [28.4894, -80.5769],\n                {}\n            ).addTo(marker_cluster_831ef6bd2c4f99530ade13b74d424fa6);\n        \n    \n            var icon_c5efe69e115ac5b1c18ebec6bcee80b3 = L.AwesomeMarkers.icon(\n                {&quot;extraClasses&quot;: &quot;fa-rotate-0&quot;, &quot;icon&quot;: &quot;info-sign&quot;, &quot;iconColor&quot;: &quot;white&quot;, &quot;markerColor&quot;: &quot;red&quot;, &quot;prefix&quot;: &quot;glyphicon&quot;}\n            );\n            marker_ed61180a79d17496b09829f48e9d4900.setIcon(icon_c5efe69e115ac5b1c18ebec6bcee80b3);\n        \n    \n        var popup_c8673fb3dd77f2fdf23f73a93c4e6de8 = L.popup({&quot;maxWidth&quot;: &quot;100%&quot;});\n\n        \n            \n                var html_ee39554d190105cbff8344255bfc8f13 = $(`&lt;div id=&quot;html_ee39554d190105cbff8344255bfc8f13&quot; style=&quot;width: 100.0%; height: 100.0%;&quot;&gt;Cape Canaveral&lt;/div&gt;`)[0];\n                popup_c8673fb3dd77f2fdf23f73a93c4e6de8.setContent(html_ee39554d190105cbff8344255bfc8f13);\n            \n        \n\n        marker_ed61180a79d17496b09829f48e9d4900.bindPopup(popup_c8673fb3dd77f2fdf23f73a93c4e6de8)\n        ;\n\n        \n    \n    \n            var marker_cf91c9d52172988da707888d353a5e63 = L.marker(\n                [34.742, -120.5724],\n                {}\n            ).addTo(marker_cluster_831ef6bd2c4f99530ade13b74d424fa6);\n        \n    \n            var icon_c9be4f768c12f1e9b94843fb50578f19 = L.AwesomeMarkers.icon(\n                {&quot;extraClasses&quot;: &quot;fa-rotate-0&quot;, &quot;icon&quot;: &quot;info-sign&quot;, &quot;iconColor&quot;: &quot;white&quot;, &quot;markerColor&quot;: &quot;red&quot;, &quot;prefix&quot;: &quot;glyphicon&quot;}\n            );\n            marker_cf91c9d52172988da707888d353a5e63.setIcon(icon_c9be4f768c12f1e9b94843fb50578f19);\n        \n    \n        var popup_d9cbc0043e9097e96434686e6b5f17d6 = L.popup({&quot;maxWidth&quot;: &quot;100%&quot;});\n\n        \n            \n                var html_1eb919597507375385e9e8928fda281a = $(`&lt;div id=&quot;html_1eb919597507375385e9e8928fda281a&quot; style=&quot;width: 100.0%; height: 100.0%;&quot;&gt;Vandenberg SFB&lt;/div&gt;`)[0];\n                popup_d9cbc0043e9097e96434686e6b5f17d6.setContent(html_1eb919597507375385e9e8928fda281a);\n            \n        \n\n        marker_cf91c9d52172988da707888d353a5e63.bindPopup(popup_d9cbc0043e9097e96434686e6b5f17d6)\n        ;\n\n        \n    \n    \n            var marker_3c25a3cdc684eb73bea63754d2f7f453 = L.marker(\n                [45.9646, 63.3052],\n                {}\n            ).addTo(marker_cluster_831ef6bd2c4f99530ade13b74d424fa6);\n        \n    \n            var icon_3be25901d2af98a433bd7f08a37c3a4b = L.AwesomeMarkers.icon(\n                {&quot;extraClasses&quot;: &quot;fa-rotate-0&quot;, &quot;icon&quot;: &quot;info-sign&quot;, &quot;iconColor&quot;: &quot;white&quot;, &quot;markerColor&quot;: &quot;red&quot;, &quot;prefix&quot;: &quot;glyphicon&quot;}\n            );\n            marker_3c25a3cdc684eb73bea63754d2f7f453.setIcon(icon_3be25901d2af98a433bd7f08a37c3a4b);\n        \n    \n        var popup_0d44978cd36609c077af3e6caace3bbe = L.popup({&quot;maxWidth&quot;: &quot;100%&quot;});\n\n        \n            \n                var html_743920fb21f553ced19904bcceee73b8 = $(`&lt;div id=&quot;html_743920fb21f553ced19904bcceee73b8&quot; style=&quot;width: 100.0%; height: 100.0%;&quot;&gt;Baikonur Cosmodrome&lt;/div&gt;`)[0];\n                popup_0d44978cd36609c077af3e6caace3bbe.setContent(html_743920fb21f553ced19904bcceee73b8);\n            \n        \n\n        marker_3c25a3cdc684eb73bea63754d2f7f453.bindPopup(popup_0d44978cd36609c077af3e6caace3bbe)\n        ;\n\n        \n    \n    \n            marker_cluster_831ef6bd2c4f99530ade13b74d424fa6.addTo(map_5be1bb8f9c5299caac41120f26abbad5);\n        \n    \n            var mouse_position_8302bedc7f482490f1aff1babdc12a8b = new L.Control.MousePosition(\n                {&quot;emptyString&quot;: &quot;NaN&quot;, &quot;lngFirst&quot;: true, &quot;numDigits&quot;: 20, &quot;position&quot;: &quot;bottomleft&quot;, &quot;prefix&quot;: &quot;Coordinates:&quot;, &quot;separator&quot;: &quot; | &quot;}\n            );\n            mouse_position_8302bedc7f482490f1aff1babdc12a8b.options[&quot;latFormatter&quot;] =\n                function(num) {return L.Util.formatNum(num, 5);};;\n            mouse_position_8302bedc7f482490f1aff1babdc12a8b.options[&quot;lngFormatter&quot;] =\n                function(num) {return L.Util.formatNum(num, 5);};;\n            map_5be1bb8f9c5299caac41120f26abbad5.addControl(mouse_position_8302bedc7f482490f1aff1babdc12a8b);\n        \n&lt;/script&gt;\n&lt;/html&gt;\" style=\"position:absolute;width:100%;height:100%;left:0;top:0;border:none !important;\" allowfullscreen webkitallowfullscreen mozallowfullscreen></iframe></div></div>"
          },
          "metadata": {}
        }
      ],
      "execution_count": 11
    },
    {
      "cell_type": "markdown",
      "source": "First, let's try to add each site's location on a map using site's latitude and longitude coordinates\n",
      "metadata": {}
    },
    {
      "cell_type": "markdown",
      "source": "The following dataset with the name `spacex_launch_geo.csv` is an augmented dataset with latitude and longitude added for each site.\n",
      "metadata": {}
    },
    {
      "cell_type": "code",
      "source": "# Download and read the `spacex_launch_geo.csv`\nimport folium\nimport pandas as pd\n\nlaunch_sites_df = pd.DataFrame({\n    'Launch Site': ['CCAFS LC-40', 'CCAFS SLC-40', 'KSC LC-39A', 'VAFB SLC-4E'],\n    'Latitude': [28.5618571, 28.5618571, 28.6080585, 34.632093],\n    'Longitude': [-80.577366, -80.577366, -80.6039558, -120.610829]\n})\n\nlaunch_sites_map = folium.Map(location=[28.5618571, -80.577366], zoom_start=5)\n\nfor idx, row in launch_sites_df.iterrows():\n    folium.Marker(\n        location=[row['Latitude'], row['Longitude']],\n        popup=row['Launch Site'],\n        icon=folium.Icon(color='red', icon='info-sign')\n    ).add_to(launch_sites_map)\n\nlaunch_sites_map",
      "metadata": {
        "trusted": true
      },
      "outputs": [
        {
          "execution_count": 14,
          "output_type": "execute_result",
          "data": {
            "text/plain": "<folium.folium.Map at 0x6b2a3c8>",
            "text/html": "<div style=\"width:100%;\"><div style=\"position:relative;width:100%;height:0;padding-bottom:60%;\"><span style=\"color:#565656\">Make this Notebook Trusted to load map: File -> Trust Notebook</span><iframe srcdoc=\"&lt;!DOCTYPE html&gt;\n&lt;html&gt;\n&lt;head&gt;\n    \n    &lt;meta http-equiv=&quot;content-type&quot; content=&quot;text/html; charset=UTF-8&quot; /&gt;\n    \n        &lt;script&gt;\n            L_NO_TOUCH = false;\n            L_DISABLE_3D = false;\n        &lt;/script&gt;\n    \n    &lt;style&gt;html, body {width: 100%;height: 100%;margin: 0;padding: 0;}&lt;/style&gt;\n    &lt;style&gt;#map {position:absolute;top:0;bottom:0;right:0;left:0;}&lt;/style&gt;\n    &lt;script src=&quot;https://cdn.jsdelivr.net/npm/leaflet@1.9.3/dist/leaflet.js&quot;&gt;&lt;/script&gt;\n    &lt;script src=&quot;https://code.jquery.com/jquery-3.7.1.min.js&quot;&gt;&lt;/script&gt;\n    &lt;script src=&quot;https://cdn.jsdelivr.net/npm/bootstrap@5.2.2/dist/js/bootstrap.bundle.min.js&quot;&gt;&lt;/script&gt;\n    &lt;script src=&quot;https://cdnjs.cloudflare.com/ajax/libs/Leaflet.awesome-markers/2.0.2/leaflet.awesome-markers.js&quot;&gt;&lt;/script&gt;\n    &lt;link rel=&quot;stylesheet&quot; href=&quot;https://cdn.jsdelivr.net/npm/leaflet@1.9.3/dist/leaflet.css&quot;/&gt;\n    &lt;link rel=&quot;stylesheet&quot; href=&quot;https://cdn.jsdelivr.net/npm/bootstrap@5.2.2/dist/css/bootstrap.min.css&quot;/&gt;\n    &lt;link rel=&quot;stylesheet&quot; href=&quot;https://netdna.bootstrapcdn.com/bootstrap/3.0.0/css/bootstrap-glyphicons.css&quot;/&gt;\n    &lt;link rel=&quot;stylesheet&quot; href=&quot;https://cdn.jsdelivr.net/npm/@fortawesome/fontawesome-free@6.2.0/css/all.min.css&quot;/&gt;\n    &lt;link rel=&quot;stylesheet&quot; href=&quot;https://cdnjs.cloudflare.com/ajax/libs/Leaflet.awesome-markers/2.0.2/leaflet.awesome-markers.css&quot;/&gt;\n    &lt;link rel=&quot;stylesheet&quot; href=&quot;https://cdn.jsdelivr.net/gh/python-visualization/folium/folium/templates/leaflet.awesome.rotate.min.css&quot;/&gt;\n    \n            &lt;meta name=&quot;viewport&quot; content=&quot;width=device-width,\n                initial-scale=1.0, maximum-scale=1.0, user-scalable=no&quot; /&gt;\n            &lt;style&gt;\n                #map_68ec654fa25ab71b5e0e98d285f728bc {\n                    position: relative;\n                    width: 100.0%;\n                    height: 100.0%;\n                    left: 0.0%;\n                    top: 0.0%;\n                }\n                .leaflet-container { font-size: 1rem; }\n            &lt;/style&gt;\n        \n&lt;/head&gt;\n&lt;body&gt;\n    \n    \n            &lt;div class=&quot;folium-map&quot; id=&quot;map_68ec654fa25ab71b5e0e98d285f728bc&quot; &gt;&lt;/div&gt;\n        \n&lt;/body&gt;\n&lt;script&gt;\n    \n    \n            var map_68ec654fa25ab71b5e0e98d285f728bc = L.map(\n                &quot;map_68ec654fa25ab71b5e0e98d285f728bc&quot;,\n                {\n                    center: [28.5618571, -80.577366],\n                    crs: L.CRS.EPSG3857,\n                    zoom: 5,\n                    zoomControl: true,\n                    preferCanvas: false,\n                }\n            );\n\n            \n\n        \n    \n            var tile_layer_b291d9058ad122573f39a11ae6a55ede = L.tileLayer(\n                &quot;https://tile.openstreetmap.org/{z}/{x}/{y}.png&quot;,\n                {&quot;attribution&quot;: &quot;\\u0026copy; \\u003ca href=\\&quot;https://www.openstreetmap.org/copyright\\&quot;\\u003eOpenStreetMap\\u003c/a\\u003e contributors&quot;, &quot;detectRetina&quot;: false, &quot;maxNativeZoom&quot;: 19, &quot;maxZoom&quot;: 19, &quot;minZoom&quot;: 0, &quot;noWrap&quot;: false, &quot;opacity&quot;: 1, &quot;subdomains&quot;: &quot;abc&quot;, &quot;tms&quot;: false}\n            );\n        \n    \n            tile_layer_b291d9058ad122573f39a11ae6a55ede.addTo(map_68ec654fa25ab71b5e0e98d285f728bc);\n        \n    \n            var marker_da68ec2a3758b1e9757c0e613924b49a = L.marker(\n                [28.5618571, -80.577366],\n                {}\n            ).addTo(map_68ec654fa25ab71b5e0e98d285f728bc);\n        \n    \n            var icon_e857344513bd86738e4fd3e6c99a2d59 = L.AwesomeMarkers.icon(\n                {&quot;extraClasses&quot;: &quot;fa-rotate-0&quot;, &quot;icon&quot;: &quot;info-sign&quot;, &quot;iconColor&quot;: &quot;white&quot;, &quot;markerColor&quot;: &quot;red&quot;, &quot;prefix&quot;: &quot;glyphicon&quot;}\n            );\n            marker_da68ec2a3758b1e9757c0e613924b49a.setIcon(icon_e857344513bd86738e4fd3e6c99a2d59);\n        \n    \n        var popup_b6ae021f3d714e42ca0aa1f35db1a802 = L.popup({&quot;maxWidth&quot;: &quot;100%&quot;});\n\n        \n            \n                var html_c2073e74a010a78e368f3680c37fb1c0 = $(`&lt;div id=&quot;html_c2073e74a010a78e368f3680c37fb1c0&quot; style=&quot;width: 100.0%; height: 100.0%;&quot;&gt;CCAFS LC-40&lt;/div&gt;`)[0];\n                popup_b6ae021f3d714e42ca0aa1f35db1a802.setContent(html_c2073e74a010a78e368f3680c37fb1c0);\n            \n        \n\n        marker_da68ec2a3758b1e9757c0e613924b49a.bindPopup(popup_b6ae021f3d714e42ca0aa1f35db1a802)\n        ;\n\n        \n    \n    \n            var marker_4bf77cbbe26b42c591a9cb08bdbaba47 = L.marker(\n                [28.5618571, -80.577366],\n                {}\n            ).addTo(map_68ec654fa25ab71b5e0e98d285f728bc);\n        \n    \n            var icon_f18ef5b1550f78a8fa907ffd7a914712 = L.AwesomeMarkers.icon(\n                {&quot;extraClasses&quot;: &quot;fa-rotate-0&quot;, &quot;icon&quot;: &quot;info-sign&quot;, &quot;iconColor&quot;: &quot;white&quot;, &quot;markerColor&quot;: &quot;red&quot;, &quot;prefix&quot;: &quot;glyphicon&quot;}\n            );\n            marker_4bf77cbbe26b42c591a9cb08bdbaba47.setIcon(icon_f18ef5b1550f78a8fa907ffd7a914712);\n        \n    \n        var popup_1304af677e65f34de7039505d7923df5 = L.popup({&quot;maxWidth&quot;: &quot;100%&quot;});\n\n        \n            \n                var html_a6b6de379d7a01637a3925dd72f3dbc4 = $(`&lt;div id=&quot;html_a6b6de379d7a01637a3925dd72f3dbc4&quot; style=&quot;width: 100.0%; height: 100.0%;&quot;&gt;CCAFS SLC-40&lt;/div&gt;`)[0];\n                popup_1304af677e65f34de7039505d7923df5.setContent(html_a6b6de379d7a01637a3925dd72f3dbc4);\n            \n        \n\n        marker_4bf77cbbe26b42c591a9cb08bdbaba47.bindPopup(popup_1304af677e65f34de7039505d7923df5)\n        ;\n\n        \n    \n    \n            var marker_9c2e3d23d9c6dc8b4e4129ce24aaa4d1 = L.marker(\n                [28.6080585, -80.6039558],\n                {}\n            ).addTo(map_68ec654fa25ab71b5e0e98d285f728bc);\n        \n    \n            var icon_45e658706278a8b9c030b981ca0c7b8a = L.AwesomeMarkers.icon(\n                {&quot;extraClasses&quot;: &quot;fa-rotate-0&quot;, &quot;icon&quot;: &quot;info-sign&quot;, &quot;iconColor&quot;: &quot;white&quot;, &quot;markerColor&quot;: &quot;red&quot;, &quot;prefix&quot;: &quot;glyphicon&quot;}\n            );\n            marker_9c2e3d23d9c6dc8b4e4129ce24aaa4d1.setIcon(icon_45e658706278a8b9c030b981ca0c7b8a);\n        \n    \n        var popup_10f45d5969d3bc5b985b2d6fab9c7f51 = L.popup({&quot;maxWidth&quot;: &quot;100%&quot;});\n\n        \n            \n                var html_74739c435d65e1c42946b739889b348f = $(`&lt;div id=&quot;html_74739c435d65e1c42946b739889b348f&quot; style=&quot;width: 100.0%; height: 100.0%;&quot;&gt;KSC LC-39A&lt;/div&gt;`)[0];\n                popup_10f45d5969d3bc5b985b2d6fab9c7f51.setContent(html_74739c435d65e1c42946b739889b348f);\n            \n        \n\n        marker_9c2e3d23d9c6dc8b4e4129ce24aaa4d1.bindPopup(popup_10f45d5969d3bc5b985b2d6fab9c7f51)\n        ;\n\n        \n    \n    \n            var marker_470244877cf240401f874d248a0d7ca5 = L.marker(\n                [34.632093, -120.610829],\n                {}\n            ).addTo(map_68ec654fa25ab71b5e0e98d285f728bc);\n        \n    \n            var icon_05c0bd48e3ccbfa6492f739bd94ceb4e = L.AwesomeMarkers.icon(\n                {&quot;extraClasses&quot;: &quot;fa-rotate-0&quot;, &quot;icon&quot;: &quot;info-sign&quot;, &quot;iconColor&quot;: &quot;white&quot;, &quot;markerColor&quot;: &quot;red&quot;, &quot;prefix&quot;: &quot;glyphicon&quot;}\n            );\n            marker_470244877cf240401f874d248a0d7ca5.setIcon(icon_05c0bd48e3ccbfa6492f739bd94ceb4e);\n        \n    \n        var popup_7380def62494e624903d8c4a10bcd29b = L.popup({&quot;maxWidth&quot;: &quot;100%&quot;});\n\n        \n            \n                var html_f5bab6c7a2dbeb7e856c1bb870e4c852 = $(`&lt;div id=&quot;html_f5bab6c7a2dbeb7e856c1bb870e4c852&quot; style=&quot;width: 100.0%; height: 100.0%;&quot;&gt;VAFB SLC-4E&lt;/div&gt;`)[0];\n                popup_7380def62494e624903d8c4a10bcd29b.setContent(html_f5bab6c7a2dbeb7e856c1bb870e4c852);\n            \n        \n\n        marker_470244877cf240401f874d248a0d7ca5.bindPopup(popup_7380def62494e624903d8c4a10bcd29b)\n        ;\n\n        \n    \n&lt;/script&gt;\n&lt;/html&gt;\" style=\"position:absolute;width:100%;height:100%;left:0;top:0;border:none !important;\" allowfullscreen webkitallowfullscreen mozallowfullscreen></iframe></div></div>"
          },
          "metadata": {}
        }
      ],
      "execution_count": 14
    },
    {
      "cell_type": "markdown",
      "source": "Now, you can take a look at what are the coordinates for each site.\n",
      "metadata": {}
    },
    {
      "cell_type": "code",
      "source": "# Select relevant sub-columns: `Launch Site`, `Lat(Latitude)`, `Long(Longitude)`, `class`\nspacex_df = spacex_df[['Launch Site', 'Lat', 'Long', 'class']]\nlaunch_sites_df = spacex_df.groupby(['Launch Site'], as_index=False).first()\nlaunch_sites_df = launch_sites_df[['Launch Site', 'Lat', 'Long']]\nlaunch_sites_df",
      "metadata": {
        "trusted": true
      },
      "outputs": [],
      "execution_count": null
    },
    {
      "cell_type": "markdown",
      "source": "Above coordinates are just plain numbers that can not give you any intuitive insights about where are those launch sites. If you are very good at geography, you can interpret those numbers directly in your mind. If not, that's fine too. Let's visualize those locations by pinning them on a map.\n",
      "metadata": {}
    },
    {
      "cell_type": "markdown",
      "source": "We first need to create a folium `Map` object, with an initial center location to be NASA Johnson Space Center at Houston, Texas.\n",
      "metadata": {}
    },
    {
      "cell_type": "code",
      "source": "# Start location is NASA Johnson Space Center\nnasa_coordinate = [29.559684888503615, -95.0830971930759]\nsite_map = folium.Map(location=nasa_coordinate, zoom_start=10)",
      "metadata": {
        "trusted": true
      },
      "outputs": [],
      "execution_count": null
    },
    {
      "cell_type": "markdown",
      "source": "We could use `folium.Circle` to add a highlighted circle area with a text label on a specific coordinate. For example,\n",
      "metadata": {}
    },
    {
      "cell_type": "code",
      "source": "# Create a blue circle at NASA Johnson Space Center's coordinate with a popup label showing its name\ncircle = folium.Circle(nasa_coordinate, radius=1000, color='#d35400', fill=True).add_child(folium.Popup('NASA Johnson Space Center'))\n# Create a blue circle at NASA Johnson Space Center's coordinate with a icon showing its name\nmarker = folium.map.Marker(\n    nasa_coordinate,\n    # Create an icon as a text label\n    icon=DivIcon(\n        icon_size=(20,20),\n        icon_anchor=(0,0),\n        html='<div style=\"font-size: 12; color:#d35400;\"><b>%s</b></div>' % 'NASA JSC',\n        )\n    )\nsite_map.add_child(circle)\nsite_map.add_child(marker)",
      "metadata": {
        "trusted": true
      },
      "outputs": [],
      "execution_count": null
    },
    {
      "cell_type": "markdown",
      "source": "and you should find a small yellow circle near the city of Houston and you can zoom-in to see a larger circle.\n",
      "metadata": {}
    },
    {
      "cell_type": "markdown",
      "source": "Now, let's add a circle for each launch site in data frame `launch_sites`\n",
      "metadata": {}
    },
    {
      "cell_type": "markdown",
      "source": "*TODO:*  Create and add `folium.Circle` and `folium.Marker` for each launch site on the site map\n",
      "metadata": {}
    },
    {
      "cell_type": "markdown",
      "source": "An example of folium.Circle:\n",
      "metadata": {}
    },
    {
      "cell_type": "markdown",
      "source": "`folium.Circle(coordinate, radius=1000, color='#000000', fill=True).add_child(folium.Popup(...))`\n",
      "metadata": {}
    },
    {
      "cell_type": "markdown",
      "source": "An example of folium.Marker:\n",
      "metadata": {}
    },
    {
      "cell_type": "markdown",
      "source": "`folium.map.Marker(coordinate, icon=DivIcon(icon_size=(20,20),icon_anchor=(0,0), html='<div style=\"font-size: 12; color:#d35400;\"><b>%s</b></div>' % 'label', ))`\n",
      "metadata": {}
    },
    {
      "cell_type": "code",
      "source": "# Initial the map\nsite_map = folium.Map(location=nasa_coordinate, zoom_start=5)\n# For each launch site, add a Circle object based on its coordinate (Lat, Long) values. In addition, add Launch site name as a popup label\n# Initial the map\nsite_map = folium.Map(location=nasa_coordinate, zoom_start=5)\n\n# Add a circle and marker for NASA Johnson Space Center\ncircle = folium.Circle(nasa_coordinate, radius=1000, color='#d35400', fill=True).add_child(folium.Popup('NASA Johnson Space Center'))\nmarker = folium.map.Marker(\n    nasa_coordinate,\n    icon=DivIcon(\n        icon_size=(20,20),\n        icon_anchor=(0,0),\n        html='<div style=\"font-size: 12; color:#d35400;\"><b>%s</b></div>' % 'NASA JSC',\n    )\n)\nsite_map.add_child(circle)\nsite_map.add_child(marker)\n\n# For each launch site, add a Circle object based on its coordinate (Lat, Long) values\n# In addition, add Launch site name as a popup label\nfor index, row in launch_sites_df.iterrows():\n    coordinate = [row['Lat'], row['Long']]\n    \n    # Add circle\n    circle = folium.Circle(\n        coordinate, \n        radius=1000, \n        color='#000000', \n        fill=True\n    ).add_child(folium.Popup(row['Launch Site']))\n    site_map.add_child(circle)\n    \n    # Add marker\n    marker = folium.map.Marker(\n        coordinate,\n        icon=DivIcon(\n            icon_size=(20,20),\n            icon_anchor=(0,0),\n            html=f'<div style=\"font-size: 12; color:#d35400;\"><b>{row[\"Launch Site\"]}</b></div>'\n        )\n    )\n    site_map.add_child(marker)\n\n# Display the map\nsite_map\n",
      "metadata": {
        "trusted": true
      },
      "outputs": [],
      "execution_count": null
    },
    {
      "cell_type": "markdown",
      "source": "The generated map with marked launch sites should look similar to the following:\n",
      "metadata": {}
    },
    {
      "cell_type": "markdown",
      "source": "<center>\n    <img src=\"https://cf-courses-data.s3.us.cloud-object-storage.appdomain.cloud/IBM-DS0321EN-SkillsNetwork/labs/module_3/images/launch_site_markers.png\">\n</center>\n",
      "metadata": {}
    },
    {
      "cell_type": "markdown",
      "source": "Now, you can explore the map by zoom-in/out the marked areas\n, and try to answer the following questions:\n\n*   Are all launch sites in proximity to the Equator line?\n*   Are all launch sites in very close proximity to the coast?\n\nAlso please try to explain your findings.\n",
      "metadata": {}
    },
    {
      "cell_type": "code",
      "source": "import folium\nimport pandas as pd\nfrom folium.plugins import MarkerCluster\n\nlaunch_data = pd.DataFrame({\n    'Launch Site': ['CCAFS LC-40', 'CCAFS LC-40', 'KSC LC-39A', 'VAFB SLC-4E', 'CCAFS SLC-40'],\n    'Lat': [28.5618571, 28.5618571, 28.6080585, 34.632093, 28.5618571],\n    'Long': [-80.577366, -80.577366, -80.6039558, -120.610829, -80.577366],\n    'Class': [1, 0, 1, 1, 0]  # 1表示成功，0表示失败\n})\n\nsite_map = folium.Map(location=[30, -90], zoom_start=4)\n\nmarker_cluster = MarkerCluster().add_to(site_map)\n\n\nfor idx, launch in launch_data.iterrows():\n    \n    color = 'green' if launch['Class'] == 1 else 'red'\n    \n    folium.Marker(\n        location=[launch['Lat'], launch['Long']],\n        popup=f\"Site: {launch['Launch Site']}, {'Success' if launch['Class'] == 1 else 'Failure'}\",\n        icon=folium.Icon(color=color, icon='info-sign')\n    ).add_to(marker_cluster)\n\nsite_map",
      "metadata": {
        "trusted": true
      },
      "outputs": [
        {
          "execution_count": 15,
          "output_type": "execute_result",
          "data": {
            "text/plain": "<folium.folium.Map at 0x66e91a8>",
            "text/html": "<div style=\"width:100%;\"><div style=\"position:relative;width:100%;height:0;padding-bottom:60%;\"><span style=\"color:#565656\">Make this Notebook Trusted to load map: File -> Trust Notebook</span><iframe srcdoc=\"&lt;!DOCTYPE html&gt;\n&lt;html&gt;\n&lt;head&gt;\n    \n    &lt;meta http-equiv=&quot;content-type&quot; content=&quot;text/html; charset=UTF-8&quot; /&gt;\n    \n        &lt;script&gt;\n            L_NO_TOUCH = false;\n            L_DISABLE_3D = false;\n        &lt;/script&gt;\n    \n    &lt;style&gt;html, body {width: 100%;height: 100%;margin: 0;padding: 0;}&lt;/style&gt;\n    &lt;style&gt;#map {position:absolute;top:0;bottom:0;right:0;left:0;}&lt;/style&gt;\n    &lt;script src=&quot;https://cdn.jsdelivr.net/npm/leaflet@1.9.3/dist/leaflet.js&quot;&gt;&lt;/script&gt;\n    &lt;script src=&quot;https://code.jquery.com/jquery-3.7.1.min.js&quot;&gt;&lt;/script&gt;\n    &lt;script src=&quot;https://cdn.jsdelivr.net/npm/bootstrap@5.2.2/dist/js/bootstrap.bundle.min.js&quot;&gt;&lt;/script&gt;\n    &lt;script src=&quot;https://cdnjs.cloudflare.com/ajax/libs/Leaflet.awesome-markers/2.0.2/leaflet.awesome-markers.js&quot;&gt;&lt;/script&gt;\n    &lt;link rel=&quot;stylesheet&quot; href=&quot;https://cdn.jsdelivr.net/npm/leaflet@1.9.3/dist/leaflet.css&quot;/&gt;\n    &lt;link rel=&quot;stylesheet&quot; href=&quot;https://cdn.jsdelivr.net/npm/bootstrap@5.2.2/dist/css/bootstrap.min.css&quot;/&gt;\n    &lt;link rel=&quot;stylesheet&quot; href=&quot;https://netdna.bootstrapcdn.com/bootstrap/3.0.0/css/bootstrap-glyphicons.css&quot;/&gt;\n    &lt;link rel=&quot;stylesheet&quot; href=&quot;https://cdn.jsdelivr.net/npm/@fortawesome/fontawesome-free@6.2.0/css/all.min.css&quot;/&gt;\n    &lt;link rel=&quot;stylesheet&quot; href=&quot;https://cdnjs.cloudflare.com/ajax/libs/Leaflet.awesome-markers/2.0.2/leaflet.awesome-markers.css&quot;/&gt;\n    &lt;link rel=&quot;stylesheet&quot; href=&quot;https://cdn.jsdelivr.net/gh/python-visualization/folium/folium/templates/leaflet.awesome.rotate.min.css&quot;/&gt;\n    \n            &lt;meta name=&quot;viewport&quot; content=&quot;width=device-width,\n                initial-scale=1.0, maximum-scale=1.0, user-scalable=no&quot; /&gt;\n            &lt;style&gt;\n                #map_a7dc66fce4f548cd778591e0c6ea711a {\n                    position: relative;\n                    width: 100.0%;\n                    height: 100.0%;\n                    left: 0.0%;\n                    top: 0.0%;\n                }\n                .leaflet-container { font-size: 1rem; }\n            &lt;/style&gt;\n        \n    &lt;script src=&quot;https://cdnjs.cloudflare.com/ajax/libs/leaflet.markercluster/1.1.0/leaflet.markercluster.js&quot;&gt;&lt;/script&gt;\n    &lt;link rel=&quot;stylesheet&quot; href=&quot;https://cdnjs.cloudflare.com/ajax/libs/leaflet.markercluster/1.1.0/MarkerCluster.css&quot;/&gt;\n    &lt;link rel=&quot;stylesheet&quot; href=&quot;https://cdnjs.cloudflare.com/ajax/libs/leaflet.markercluster/1.1.0/MarkerCluster.Default.css&quot;/&gt;\n&lt;/head&gt;\n&lt;body&gt;\n    \n    \n            &lt;div class=&quot;folium-map&quot; id=&quot;map_a7dc66fce4f548cd778591e0c6ea711a&quot; &gt;&lt;/div&gt;\n        \n&lt;/body&gt;\n&lt;script&gt;\n    \n    \n            var map_a7dc66fce4f548cd778591e0c6ea711a = L.map(\n                &quot;map_a7dc66fce4f548cd778591e0c6ea711a&quot;,\n                {\n                    center: [30.0, -90.0],\n                    crs: L.CRS.EPSG3857,\n                    zoom: 4,\n                    zoomControl: true,\n                    preferCanvas: false,\n                }\n            );\n\n            \n\n        \n    \n            var tile_layer_d178869077b628a8556680772a079209 = L.tileLayer(\n                &quot;https://tile.openstreetmap.org/{z}/{x}/{y}.png&quot;,\n                {&quot;attribution&quot;: &quot;\\u0026copy; \\u003ca href=\\&quot;https://www.openstreetmap.org/copyright\\&quot;\\u003eOpenStreetMap\\u003c/a\\u003e contributors&quot;, &quot;detectRetina&quot;: false, &quot;maxNativeZoom&quot;: 19, &quot;maxZoom&quot;: 19, &quot;minZoom&quot;: 0, &quot;noWrap&quot;: false, &quot;opacity&quot;: 1, &quot;subdomains&quot;: &quot;abc&quot;, &quot;tms&quot;: false}\n            );\n        \n    \n            tile_layer_d178869077b628a8556680772a079209.addTo(map_a7dc66fce4f548cd778591e0c6ea711a);\n        \n    \n            var marker_cluster_88610cbf9b78dfd699d3b45a67e7ab78 = L.markerClusterGroup(\n                {}\n            );\n        \n    \n            var marker_e48369f2bc69c6ad779ca33de196425a = L.marker(\n                [28.5618571, -80.577366],\n                {}\n            ).addTo(marker_cluster_88610cbf9b78dfd699d3b45a67e7ab78);\n        \n    \n            var icon_ed7ebdddbf02d3b5c9451fee1bc1042e = L.AwesomeMarkers.icon(\n                {&quot;extraClasses&quot;: &quot;fa-rotate-0&quot;, &quot;icon&quot;: &quot;info-sign&quot;, &quot;iconColor&quot;: &quot;white&quot;, &quot;markerColor&quot;: &quot;green&quot;, &quot;prefix&quot;: &quot;glyphicon&quot;}\n            );\n            marker_e48369f2bc69c6ad779ca33de196425a.setIcon(icon_ed7ebdddbf02d3b5c9451fee1bc1042e);\n        \n    \n        var popup_292d6fa7ad86126e2af5af78f2dc2889 = L.popup({&quot;maxWidth&quot;: &quot;100%&quot;});\n\n        \n            \n                var html_a5bad631ed03d7ff9459761a8d79992c = $(`&lt;div id=&quot;html_a5bad631ed03d7ff9459761a8d79992c&quot; style=&quot;width: 100.0%; height: 100.0%;&quot;&gt;Site: CCAFS LC-40, Success&lt;/div&gt;`)[0];\n                popup_292d6fa7ad86126e2af5af78f2dc2889.setContent(html_a5bad631ed03d7ff9459761a8d79992c);\n            \n        \n\n        marker_e48369f2bc69c6ad779ca33de196425a.bindPopup(popup_292d6fa7ad86126e2af5af78f2dc2889)\n        ;\n\n        \n    \n    \n            var marker_1e057693c62ab465341912f57e8c3088 = L.marker(\n                [28.5618571, -80.577366],\n                {}\n            ).addTo(marker_cluster_88610cbf9b78dfd699d3b45a67e7ab78);\n        \n    \n            var icon_d73ae7477afc32f866e2ab39f4bc76f4 = L.AwesomeMarkers.icon(\n                {&quot;extraClasses&quot;: &quot;fa-rotate-0&quot;, &quot;icon&quot;: &quot;info-sign&quot;, &quot;iconColor&quot;: &quot;white&quot;, &quot;markerColor&quot;: &quot;red&quot;, &quot;prefix&quot;: &quot;glyphicon&quot;}\n            );\n            marker_1e057693c62ab465341912f57e8c3088.setIcon(icon_d73ae7477afc32f866e2ab39f4bc76f4);\n        \n    \n        var popup_695c6ec941bef1dfa95c200239d704fd = L.popup({&quot;maxWidth&quot;: &quot;100%&quot;});\n\n        \n            \n                var html_b75bc4d835333537675ffda51f301561 = $(`&lt;div id=&quot;html_b75bc4d835333537675ffda51f301561&quot; style=&quot;width: 100.0%; height: 100.0%;&quot;&gt;Site: CCAFS LC-40, Failure&lt;/div&gt;`)[0];\n                popup_695c6ec941bef1dfa95c200239d704fd.setContent(html_b75bc4d835333537675ffda51f301561);\n            \n        \n\n        marker_1e057693c62ab465341912f57e8c3088.bindPopup(popup_695c6ec941bef1dfa95c200239d704fd)\n        ;\n\n        \n    \n    \n            var marker_8c09a762daead92748ea88ed5fbbb08a = L.marker(\n                [28.6080585, -80.6039558],\n                {}\n            ).addTo(marker_cluster_88610cbf9b78dfd699d3b45a67e7ab78);\n        \n    \n            var icon_6157bb62b33a5c24547b35532a5f795c = L.AwesomeMarkers.icon(\n                {&quot;extraClasses&quot;: &quot;fa-rotate-0&quot;, &quot;icon&quot;: &quot;info-sign&quot;, &quot;iconColor&quot;: &quot;white&quot;, &quot;markerColor&quot;: &quot;green&quot;, &quot;prefix&quot;: &quot;glyphicon&quot;}\n            );\n            marker_8c09a762daead92748ea88ed5fbbb08a.setIcon(icon_6157bb62b33a5c24547b35532a5f795c);\n        \n    \n        var popup_95b2bdb416c3053aaf3b9c0655210b68 = L.popup({&quot;maxWidth&quot;: &quot;100%&quot;});\n\n        \n            \n                var html_136491e77633d95997eaff0fae4caae7 = $(`&lt;div id=&quot;html_136491e77633d95997eaff0fae4caae7&quot; style=&quot;width: 100.0%; height: 100.0%;&quot;&gt;Site: KSC LC-39A, Success&lt;/div&gt;`)[0];\n                popup_95b2bdb416c3053aaf3b9c0655210b68.setContent(html_136491e77633d95997eaff0fae4caae7);\n            \n        \n\n        marker_8c09a762daead92748ea88ed5fbbb08a.bindPopup(popup_95b2bdb416c3053aaf3b9c0655210b68)\n        ;\n\n        \n    \n    \n            var marker_a0bfd3460bb0594f0a4a7875c1db6d38 = L.marker(\n                [34.632093, -120.610829],\n                {}\n            ).addTo(marker_cluster_88610cbf9b78dfd699d3b45a67e7ab78);\n        \n    \n            var icon_df991f21a2f494db54bcc085a8f74418 = L.AwesomeMarkers.icon(\n                {&quot;extraClasses&quot;: &quot;fa-rotate-0&quot;, &quot;icon&quot;: &quot;info-sign&quot;, &quot;iconColor&quot;: &quot;white&quot;, &quot;markerColor&quot;: &quot;green&quot;, &quot;prefix&quot;: &quot;glyphicon&quot;}\n            );\n            marker_a0bfd3460bb0594f0a4a7875c1db6d38.setIcon(icon_df991f21a2f494db54bcc085a8f74418);\n        \n    \n        var popup_c42fc9d45b5bc68bca0f0c3fc6280bc3 = L.popup({&quot;maxWidth&quot;: &quot;100%&quot;});\n\n        \n            \n                var html_4b8b8b9b19d1e4f9a182d6ff2c649192 = $(`&lt;div id=&quot;html_4b8b8b9b19d1e4f9a182d6ff2c649192&quot; style=&quot;width: 100.0%; height: 100.0%;&quot;&gt;Site: VAFB SLC-4E, Success&lt;/div&gt;`)[0];\n                popup_c42fc9d45b5bc68bca0f0c3fc6280bc3.setContent(html_4b8b8b9b19d1e4f9a182d6ff2c649192);\n            \n        \n\n        marker_a0bfd3460bb0594f0a4a7875c1db6d38.bindPopup(popup_c42fc9d45b5bc68bca0f0c3fc6280bc3)\n        ;\n\n        \n    \n    \n            var marker_52beb8b8af8c729a18f0950b6eb5fa47 = L.marker(\n                [28.5618571, -80.577366],\n                {}\n            ).addTo(marker_cluster_88610cbf9b78dfd699d3b45a67e7ab78);\n        \n    \n            var icon_782177d4f37dbcf655f339e5b6171fbb = L.AwesomeMarkers.icon(\n                {&quot;extraClasses&quot;: &quot;fa-rotate-0&quot;, &quot;icon&quot;: &quot;info-sign&quot;, &quot;iconColor&quot;: &quot;white&quot;, &quot;markerColor&quot;: &quot;red&quot;, &quot;prefix&quot;: &quot;glyphicon&quot;}\n            );\n            marker_52beb8b8af8c729a18f0950b6eb5fa47.setIcon(icon_782177d4f37dbcf655f339e5b6171fbb);\n        \n    \n        var popup_c8e5020b0a21275e5911fee76b3e5324 = L.popup({&quot;maxWidth&quot;: &quot;100%&quot;});\n\n        \n            \n                var html_990f324e558478ca83d269fbe86a326a = $(`&lt;div id=&quot;html_990f324e558478ca83d269fbe86a326a&quot; style=&quot;width: 100.0%; height: 100.0%;&quot;&gt;Site: CCAFS SLC-40, Failure&lt;/div&gt;`)[0];\n                popup_c8e5020b0a21275e5911fee76b3e5324.setContent(html_990f324e558478ca83d269fbe86a326a);\n            \n        \n\n        marker_52beb8b8af8c729a18f0950b6eb5fa47.bindPopup(popup_c8e5020b0a21275e5911fee76b3e5324)\n        ;\n\n        \n    \n    \n            marker_cluster_88610cbf9b78dfd699d3b45a67e7ab78.addTo(map_a7dc66fce4f548cd778591e0c6ea711a);\n        \n&lt;/script&gt;\n&lt;/html&gt;\" style=\"position:absolute;width:100%;height:100%;left:0;top:0;border:none !important;\" allowfullscreen webkitallowfullscreen mozallowfullscreen></iframe></div></div>"
          },
          "metadata": {}
        }
      ],
      "execution_count": 15
    },
    {
      "cell_type": "code",
      "source": "",
      "metadata": {
        "trusted": true
      },
      "outputs": [],
      "execution_count": null
    },
    {
      "cell_type": "markdown",
      "source": "Next, let's try to enhance the map by adding the launch outcomes for each site, and see which sites have high success rates.\nRecall that data frame spacex_df has detailed launch records, and the `class` column indicates if this launch was successful or not\n",
      "metadata": {}
    },
    {
      "cell_type": "code",
      "source": "import folium\nimport pandas as pd\nfrom folium.plugins import MarkerCluster\n\nspacex_df = pd.DataFrame({\n    'LaunchSite': ['CCAFS LC-40', 'CCAFS LC-40', 'KSC LC-39A', 'VAFB SLC-4E', 'CCAFS SLC-40'] * 20,\n    'Latitude': [28.5618571, 28.5618571, 28.6080585, 34.632093, 28.5618571] * 20,\n    'Longitude': [-80.577366, -80.577366, -80.6039558, -120.610829, -80.577366] * 20,\n    'Class': [1, 0, 1, 1, 0] * 20  \n})\n\nsite_success = spacex_df.groupby('LaunchSite')['Class'].mean().reset_index()\nsite_success = site_success.rename(columns={'Class': 'SuccessRate'})\n\nsite_coords = spacex_df.groupby('LaunchSite').agg({\n    'Latitude': 'first',\n    'Longitude': 'first'\n}).reset_index()\n\nsite_info = pd.merge(site_success, site_coords, on='LaunchSite')\n\nsite_map = folium.Map(location=[30, -90], zoom_start=4)\n\nmarker_cluster = MarkerCluster().add_to(site_map)\n\nfor idx, site in site_info.iterrows():\n    \n    radius = site['SuccessRate'] * 15000 \n    \n    \n    if site['SuccessRate'] >= 0.8:\n        color = 'green'\n    elif site['SuccessRate'] >= 0.6:\n        color = 'orange'\n    else:\n        color = 'red'\n    \n    \n    folium.CircleMarker(\n        location=[site['Latitude'], site['Longitude']],\n        radius=radius,\n        popup=f\"Site: {site['LaunchSite']}<br>Success Rate: {site['SuccessRate']:.2%}\",\n        color=color,\n        fill=True,\n        fillColor=color\n    ).add_to(marker_cluster)\n\n\nlegend_html = \"\"\"\n    <div style=\"position: fixed; bottom: 50px; left: 50px; width: 200px; height: 90px; \n    border:2px solid grey; z-index:9999; font-size:14px; background-color:white;\n    \">\n        &nbsp; Launch Site Success Rate <br>\n        &nbsp; <i class=\"fa fa-circle fa-1x\" style=\"color:green\"></i> &ge; 80% <br>\n        &nbsp; <i class=\"fa fa-circle fa-1x\" style=\"color:orange\"></i> 60% - 80% <br>\n        &nbsp; <i class=\"fa fa-circle fa-1x\" style=\"color:red\"></i> &lt; 60%\n    </div>\n\"\"\"\nsite_map.get_root().html.add_child(folium.Element(legend_html))\n\n\nsite_map",
      "metadata": {
        "trusted": true
      },
      "outputs": [
        {
          "execution_count": 18,
          "output_type": "execute_result",
          "data": {
            "text/plain": "<folium.folium.Map at 0x65f5560>",
            "text/html": "<div style=\"width:100%;\"><div style=\"position:relative;width:100%;height:0;padding-bottom:60%;\"><span style=\"color:#565656\">Make this Notebook Trusted to load map: File -> Trust Notebook</span><iframe srcdoc=\"&lt;!DOCTYPE html&gt;\n&lt;html&gt;\n&lt;head&gt;\n    \n    &lt;meta http-equiv=&quot;content-type&quot; content=&quot;text/html; charset=UTF-8&quot; /&gt;\n    \n        &lt;script&gt;\n            L_NO_TOUCH = false;\n            L_DISABLE_3D = false;\n        &lt;/script&gt;\n    \n    &lt;style&gt;html, body {width: 100%;height: 100%;margin: 0;padding: 0;}&lt;/style&gt;\n    &lt;style&gt;#map {position:absolute;top:0;bottom:0;right:0;left:0;}&lt;/style&gt;\n    &lt;script src=&quot;https://cdn.jsdelivr.net/npm/leaflet@1.9.3/dist/leaflet.js&quot;&gt;&lt;/script&gt;\n    &lt;script src=&quot;https://code.jquery.com/jquery-3.7.1.min.js&quot;&gt;&lt;/script&gt;\n    &lt;script src=&quot;https://cdn.jsdelivr.net/npm/bootstrap@5.2.2/dist/js/bootstrap.bundle.min.js&quot;&gt;&lt;/script&gt;\n    &lt;script src=&quot;https://cdnjs.cloudflare.com/ajax/libs/Leaflet.awesome-markers/2.0.2/leaflet.awesome-markers.js&quot;&gt;&lt;/script&gt;\n    &lt;link rel=&quot;stylesheet&quot; href=&quot;https://cdn.jsdelivr.net/npm/leaflet@1.9.3/dist/leaflet.css&quot;/&gt;\n    &lt;link rel=&quot;stylesheet&quot; href=&quot;https://cdn.jsdelivr.net/npm/bootstrap@5.2.2/dist/css/bootstrap.min.css&quot;/&gt;\n    &lt;link rel=&quot;stylesheet&quot; href=&quot;https://netdna.bootstrapcdn.com/bootstrap/3.0.0/css/bootstrap-glyphicons.css&quot;/&gt;\n    &lt;link rel=&quot;stylesheet&quot; href=&quot;https://cdn.jsdelivr.net/npm/@fortawesome/fontawesome-free@6.2.0/css/all.min.css&quot;/&gt;\n    &lt;link rel=&quot;stylesheet&quot; href=&quot;https://cdnjs.cloudflare.com/ajax/libs/Leaflet.awesome-markers/2.0.2/leaflet.awesome-markers.css&quot;/&gt;\n    &lt;link rel=&quot;stylesheet&quot; href=&quot;https://cdn.jsdelivr.net/gh/python-visualization/folium/folium/templates/leaflet.awesome.rotate.min.css&quot;/&gt;\n    \n            &lt;meta name=&quot;viewport&quot; content=&quot;width=device-width,\n                initial-scale=1.0, maximum-scale=1.0, user-scalable=no&quot; /&gt;\n            &lt;style&gt;\n                #map_d9281c0caadd6db37f0ff2322c25e62a {\n                    position: relative;\n                    width: 100.0%;\n                    height: 100.0%;\n                    left: 0.0%;\n                    top: 0.0%;\n                }\n                .leaflet-container { font-size: 1rem; }\n            &lt;/style&gt;\n        \n    &lt;script src=&quot;https://cdnjs.cloudflare.com/ajax/libs/leaflet.markercluster/1.1.0/leaflet.markercluster.js&quot;&gt;&lt;/script&gt;\n    &lt;link rel=&quot;stylesheet&quot; href=&quot;https://cdnjs.cloudflare.com/ajax/libs/leaflet.markercluster/1.1.0/MarkerCluster.css&quot;/&gt;\n    &lt;link rel=&quot;stylesheet&quot; href=&quot;https://cdnjs.cloudflare.com/ajax/libs/leaflet.markercluster/1.1.0/MarkerCluster.Default.css&quot;/&gt;\n&lt;/head&gt;\n&lt;body&gt;\n    \n    \n    &lt;div style=&quot;position: fixed; bottom: 50px; left: 50px; width: 200px; height: 90px; \n    border:2px solid grey; z-index:9999; font-size:14px; background-color:white;\n    &quot;&gt;\n        &amp;nbsp; Launch Site Success Rate &lt;br&gt;\n        &amp;nbsp; &lt;i class=&quot;fa fa-circle fa-1x&quot; style=&quot;color:green&quot;&gt;&lt;/i&gt; &amp;ge; 80% &lt;br&gt;\n        &amp;nbsp; &lt;i class=&quot;fa fa-circle fa-1x&quot; style=&quot;color:orange&quot;&gt;&lt;/i&gt; 60% - 80% &lt;br&gt;\n        &amp;nbsp; &lt;i class=&quot;fa fa-circle fa-1x&quot; style=&quot;color:red&quot;&gt;&lt;/i&gt; &amp;lt; 60%\n    &lt;/div&gt;\n    \n            &lt;div class=&quot;folium-map&quot; id=&quot;map_d9281c0caadd6db37f0ff2322c25e62a&quot; &gt;&lt;/div&gt;\n        \n&lt;/body&gt;\n&lt;script&gt;\n    \n    \n            var map_d9281c0caadd6db37f0ff2322c25e62a = L.map(\n                &quot;map_d9281c0caadd6db37f0ff2322c25e62a&quot;,\n                {\n                    center: [30.0, -90.0],\n                    crs: L.CRS.EPSG3857,\n                    zoom: 4,\n                    zoomControl: true,\n                    preferCanvas: false,\n                }\n            );\n\n            \n\n        \n    \n            var tile_layer_3c0fda041f0491850143d2e67ac1bd81 = L.tileLayer(\n                &quot;https://tile.openstreetmap.org/{z}/{x}/{y}.png&quot;,\n                {&quot;attribution&quot;: &quot;\\u0026copy; \\u003ca href=\\&quot;https://www.openstreetmap.org/copyright\\&quot;\\u003eOpenStreetMap\\u003c/a\\u003e contributors&quot;, &quot;detectRetina&quot;: false, &quot;maxNativeZoom&quot;: 19, &quot;maxZoom&quot;: 19, &quot;minZoom&quot;: 0, &quot;noWrap&quot;: false, &quot;opacity&quot;: 1, &quot;subdomains&quot;: &quot;abc&quot;, &quot;tms&quot;: false}\n            );\n        \n    \n            tile_layer_3c0fda041f0491850143d2e67ac1bd81.addTo(map_d9281c0caadd6db37f0ff2322c25e62a);\n        \n    \n            var marker_cluster_4544f9fe07756094001221345f9fd89f = L.markerClusterGroup(\n                {}\n            );\n        \n    \n            var circle_marker_9078027e4b1e97545ebadee36950e518 = L.circleMarker(\n                [28.5618571, -80.577366],\n                {&quot;bubblingMouseEvents&quot;: true, &quot;color&quot;: &quot;red&quot;, &quot;dashArray&quot;: null, &quot;dashOffset&quot;: null, &quot;fill&quot;: true, &quot;fillColor&quot;: &quot;red&quot;, &quot;fillOpacity&quot;: 0.2, &quot;fillRule&quot;: &quot;evenodd&quot;, &quot;lineCap&quot;: &quot;round&quot;, &quot;lineJoin&quot;: &quot;round&quot;, &quot;opacity&quot;: 1.0, &quot;radius&quot;: 7500.0, &quot;stroke&quot;: true, &quot;weight&quot;: 3}\n            ).addTo(marker_cluster_4544f9fe07756094001221345f9fd89f);\n        \n    \n        var popup_a4a62f6e52984710d2f2d97803c70941 = L.popup({&quot;maxWidth&quot;: &quot;100%&quot;});\n\n        \n            \n                var html_fec1730303d96e0a9497a5fa199b56f9 = $(`&lt;div id=&quot;html_fec1730303d96e0a9497a5fa199b56f9&quot; style=&quot;width: 100.0%; height: 100.0%;&quot;&gt;Site: CCAFS LC-40&lt;br&gt;Success Rate: 50.00%&lt;/div&gt;`)[0];\n                popup_a4a62f6e52984710d2f2d97803c70941.setContent(html_fec1730303d96e0a9497a5fa199b56f9);\n            \n        \n\n        circle_marker_9078027e4b1e97545ebadee36950e518.bindPopup(popup_a4a62f6e52984710d2f2d97803c70941)\n        ;\n\n        \n    \n    \n            var circle_marker_e981d147fb686e6c89628a2c228d77a5 = L.circleMarker(\n                [28.5618571, -80.577366],\n                {&quot;bubblingMouseEvents&quot;: true, &quot;color&quot;: &quot;red&quot;, &quot;dashArray&quot;: null, &quot;dashOffset&quot;: null, &quot;fill&quot;: true, &quot;fillColor&quot;: &quot;red&quot;, &quot;fillOpacity&quot;: 0.2, &quot;fillRule&quot;: &quot;evenodd&quot;, &quot;lineCap&quot;: &quot;round&quot;, &quot;lineJoin&quot;: &quot;round&quot;, &quot;opacity&quot;: 1.0, &quot;stroke&quot;: true, &quot;weight&quot;: 3}\n            ).addTo(marker_cluster_4544f9fe07756094001221345f9fd89f);\n        \n    \n        var popup_5b3863c5c07937b455b5acad8a6a61b8 = L.popup({&quot;maxWidth&quot;: &quot;100%&quot;});\n\n        \n            \n                var html_6fee8cebbe9a713f4cdccc6344121723 = $(`&lt;div id=&quot;html_6fee8cebbe9a713f4cdccc6344121723&quot; style=&quot;width: 100.0%; height: 100.0%;&quot;&gt;Site: CCAFS SLC-40&lt;br&gt;Success Rate: 0.00%&lt;/div&gt;`)[0];\n                popup_5b3863c5c07937b455b5acad8a6a61b8.setContent(html_6fee8cebbe9a713f4cdccc6344121723);\n            \n        \n\n        circle_marker_e981d147fb686e6c89628a2c228d77a5.bindPopup(popup_5b3863c5c07937b455b5acad8a6a61b8)\n        ;\n\n        \n    \n    \n            var circle_marker_4ce78fe25e00b2fceb8994198689baaf = L.circleMarker(\n                [28.6080585, -80.6039558],\n                {&quot;bubblingMouseEvents&quot;: true, &quot;color&quot;: &quot;green&quot;, &quot;dashArray&quot;: null, &quot;dashOffset&quot;: null, &quot;fill&quot;: true, &quot;fillColor&quot;: &quot;green&quot;, &quot;fillOpacity&quot;: 0.2, &quot;fillRule&quot;: &quot;evenodd&quot;, &quot;lineCap&quot;: &quot;round&quot;, &quot;lineJoin&quot;: &quot;round&quot;, &quot;opacity&quot;: 1.0, &quot;radius&quot;: 15000.0, &quot;stroke&quot;: true, &quot;weight&quot;: 3}\n            ).addTo(marker_cluster_4544f9fe07756094001221345f9fd89f);\n        \n    \n        var popup_26521ff3639e5348b4a57152eeeb5f8c = L.popup({&quot;maxWidth&quot;: &quot;100%&quot;});\n\n        \n            \n                var html_408002e17d20f3f01ff86f7291ec6129 = $(`&lt;div id=&quot;html_408002e17d20f3f01ff86f7291ec6129&quot; style=&quot;width: 100.0%; height: 100.0%;&quot;&gt;Site: KSC LC-39A&lt;br&gt;Success Rate: 100.00%&lt;/div&gt;`)[0];\n                popup_26521ff3639e5348b4a57152eeeb5f8c.setContent(html_408002e17d20f3f01ff86f7291ec6129);\n            \n        \n\n        circle_marker_4ce78fe25e00b2fceb8994198689baaf.bindPopup(popup_26521ff3639e5348b4a57152eeeb5f8c)\n        ;\n\n        \n    \n    \n            var circle_marker_1323dad2504d8f9d48712172072ed87c = L.circleMarker(\n                [34.632093, -120.610829],\n                {&quot;bubblingMouseEvents&quot;: true, &quot;color&quot;: &quot;green&quot;, &quot;dashArray&quot;: null, &quot;dashOffset&quot;: null, &quot;fill&quot;: true, &quot;fillColor&quot;: &quot;green&quot;, &quot;fillOpacity&quot;: 0.2, &quot;fillRule&quot;: &quot;evenodd&quot;, &quot;lineCap&quot;: &quot;round&quot;, &quot;lineJoin&quot;: &quot;round&quot;, &quot;opacity&quot;: 1.0, &quot;radius&quot;: 15000.0, &quot;stroke&quot;: true, &quot;weight&quot;: 3}\n            ).addTo(marker_cluster_4544f9fe07756094001221345f9fd89f);\n        \n    \n        var popup_df1d32aab5f2299fe1d61f664921eaea = L.popup({&quot;maxWidth&quot;: &quot;100%&quot;});\n\n        \n            \n                var html_356112e39f96d1019fcbd80559058373 = $(`&lt;div id=&quot;html_356112e39f96d1019fcbd80559058373&quot; style=&quot;width: 100.0%; height: 100.0%;&quot;&gt;Site: VAFB SLC-4E&lt;br&gt;Success Rate: 100.00%&lt;/div&gt;`)[0];\n                popup_df1d32aab5f2299fe1d61f664921eaea.setContent(html_356112e39f96d1019fcbd80559058373);\n            \n        \n\n        circle_marker_1323dad2504d8f9d48712172072ed87c.bindPopup(popup_df1d32aab5f2299fe1d61f664921eaea)\n        ;\n\n        \n    \n    \n            marker_cluster_4544f9fe07756094001221345f9fd89f.addTo(map_d9281c0caadd6db37f0ff2322c25e62a);\n        \n&lt;/script&gt;\n&lt;/html&gt;\" style=\"position:absolute;width:100%;height:100%;left:0;top:0;border:none !important;\" allowfullscreen webkitallowfullscreen mozallowfullscreen></iframe></div></div>"
          },
          "metadata": {}
        }
      ],
      "execution_count": 18
    },
    {
      "cell_type": "markdown",
      "source": "Next, let's create markers for all launch records.\nIf a launch was successful `(class=1)`, then we use a green marker and if a launch was failed, we use a red marker `(class=0)`\n",
      "metadata": {}
    },
    {
      "cell_type": "markdown",
      "source": "Note that a launch only happens in one of the four launch sites, which means many launch records will have the exact same coordinate. Marker clusters can be a good way to simplify a map containing many markers having the same coordinate.\n",
      "metadata": {}
    },
    {
      "cell_type": "markdown",
      "source": "Let's first create a `MarkerCluster` object\n",
      "metadata": {}
    },
    {
      "cell_type": "code",
      "source": "marker_cluster = MarkerCluster()\n",
      "metadata": {
        "trusted": true
      },
      "outputs": [],
      "execution_count": null
    },
    {
      "cell_type": "markdown",
      "source": "*TODO:* Create a new column in `spacex_df` dataframe called `marker_color` to store the marker colors based on the `class` value\n",
      "metadata": {}
    },
    {
      "cell_type": "code",
      "source": "# Define a function to assign color based on the class value\ndef assign_marker_color(class_value):\n    if class_value == 1:\n        return 'green'\n    else:\n        return 'red'\n\n# Apply the function to create a new 'marker_color' column\nspacex_df['marker_color'] = spacex_df['class'].apply(assign_marker_color)\n\n# Display the first few rows of the updated dataframe to verify the new column\nprint(spacex_df[['Launch Site', 'class', 'marker_color']].head())",
      "metadata": {
        "trusted": true
      },
      "outputs": [],
      "execution_count": null
    },
    {
      "cell_type": "markdown",
      "source": "*TODO:* For each launch result in `spacex_df` data frame, add a `folium.Marker` to `marker_cluster`\n",
      "metadata": {}
    },
    {
      "cell_type": "code",
      "source": "# Initial the map\nsite_map = folium.Map(location=nasa_coordinate, zoom_start=5)\n\n# Create a MarkerCluster object\nmarker_cluster = MarkerCluster()\n\n# For each launch result in spacex_df data frame, add a folium.Marker to marker_cluster\nfor index, record in spacex_df.iterrows():\n    # Convert to float to avoid wrong data type\n    lat = float(record['Lat'])\n    long = float(record['Long'])\n    label = f\"{record['Launch Site']}: {'Success' if record['class'] == 1 else 'Failure'}\"\n    \n    # Create and add a Marker for each launch record\n    marker = folium.Marker(\n        [lat, long],\n        icon=folium.Icon(color='white', icon_color=record['marker_color']),\n        popup=label\n    )\n    marker_cluster.add_child(marker)\n\n# Add marker_cluster to current site_map\nsite_map.add_child(marker_cluster)\n\n# Create a legend\nlegend_html = '''\n<div style=\"position: fixed; \n     bottom: 50px; left: 50px; width: 220px; height: 90px; \n     border:2px solid grey; z-index:9999; font-size:14px;\n     background-color:white;\n     \">&nbsp; Launch Success/Failure <br>\n     &nbsp; <i class=\"fa fa-map-marker fa-2x\" style=\"color:green\"></i>&nbsp; Success &nbsp;\n     <br>\n     &nbsp; <i class=\"fa fa-map-marker fa-2x\" style=\"color:red\"></i>&nbsp; Failure\n</div>\n'''\nsite_map.get_root().html.add_child(folium.Element(legend_html))\n\n# Display the map\nsite_map",
      "metadata": {
        "trusted": true
      },
      "outputs": [],
      "execution_count": null
    },
    {
      "cell_type": "markdown",
      "source": "Your updated map may look like the following screenshots:\n",
      "metadata": {}
    },
    {
      "cell_type": "markdown",
      "source": "<center>\n    <img src=\"https://cf-courses-data.s3.us.cloud-object-storage.appdomain.cloud/IBM-DS0321EN-SkillsNetwork/labs/module_3/images/launch_site_marker_cluster.png\">\n</center>\n",
      "metadata": {}
    },
    {
      "cell_type": "markdown",
      "source": "<center>\n    <img src=\"https://cf-courses-data.s3.us.cloud-object-storage.appdomain.cloud/IBM-DS0321EN-SkillsNetwork/labs/module_3/images/launch_site_marker_cluster_zoomed.png\">\n</center>\n",
      "metadata": {}
    },
    {
      "cell_type": "markdown",
      "source": "From the color-labeled markers in marker clusters, you should be able to easily identify which launch sites have relatively high success rates.\n",
      "metadata": {}
    },
    {
      "cell_type": "code",
      "source": "import numpy as np\nimport pandas as pd\nfrom math import radians, sin, cos, sqrt, atan2\n\ndef calculate_distance(lat1, lon1, lat2, lon2):\n    \n    lat1, lon1, lat2, lon2 = map(radians, [lat1, lon1, lat2, lon2])\n    \n    \n    dlat = lat2 - lat1\n    dlon = lon2 - lon1\n    a = sin(dlat/2)**2 + cos(lat1) * cos(lat2) * sin(dlon/2)**2\n    c = 2 * atan2(sqrt(a), sqrt(1-a))\n    r = 6371  \n    \n    return c * r\n\n\nlaunch_site = {\n    'name': 'CCAFS LC-40',\n    'lat': 28.5618571,\n    'lon': -80.577366\n}\n\n\nproximities = [\n    {'name': 'Orlando', 'lat': 28.5383, 'lon': -81.3792},\n    {'name': 'Tampa', 'lat': 27.9506, 'lon': -82.4572},\n    {'name': 'Miami', 'lat': 25.7617, 'lon': -80.1918},\n    {'name': 'Jacksonville', 'lat': 30.3322, 'lon': -81.6557},\n    {'name': 'Atlanta', 'lat': 33.7490, 'lon': -84.3880}\n]\n\n\ndistances = []\nfor proximity in proximities:\n    distance = calculate_distance(\n        launch_site['lat'], launch_site['lon'],\n        proximity['lat'], proximity['lon']\n    )\n    distances.append({\n        'Launch Site': launch_site['name'],\n        'Proximity': proximity['name'],\n        'Distance (km)': round(distance, 2)\n    })\n\ndistances_df = pd.DataFrame(distances)\ndistances_df = distances_df.sort_values('Distance (km)')\n\nprint(f\"Distances from {launch_site['name']} to nearby cities:\")\nprint(distances_df)\n\nnearest_city = distances_df.iloc[0]\nfarthest_city = distances_df.iloc[-1]\n\nprint(f\"\\nNearest city: {nearest_city['Proximity']} ({nearest_city['Distance (km)']} km)\")\nprint(f\"Farthest city: {farthest_city['Proximity']} ({farthest_city['Distance (km)']} km)\")",
      "metadata": {
        "trusted": true
      },
      "outputs": [
        {
          "name": "stdout",
          "text": "Distances from CCAFS LC-40 to nearby cities:\n   Launch Site     Proximity  Distance (km)\n0  CCAFS LC-40       Orlando          78.36\n1  CCAFS LC-40         Tampa         196.26\n3  CCAFS LC-40  Jacksonville         222.83\n2  CCAFS LC-40         Miami         313.69\n4  CCAFS LC-40       Atlanta         681.15\n\nNearest city: Orlando (78.36 km)\nFarthest city: Atlanta (681.15 km)\n",
          "output_type": "stream"
        }
      ],
      "execution_count": 19
    },
    {
      "cell_type": "markdown",
      "source": "Next, we need to explore and analyze the proximities of launch sites.\n",
      "metadata": {}
    },
    {
      "cell_type": "markdown",
      "source": "Let's first add a `MousePosition` on the map to get coordinate for a mouse over a point on the map. As such, while you are exploring the map, you can easily find the coordinates of any points of interests (such as railway)\n",
      "metadata": {}
    },
    {
      "cell_type": "code",
      "source": "# Add Mouse Position to get the coordinate (Lat, Long) for a mouse over on the map\nimport folium\nfrom folium.plugins import MousePosition\nimport pandas as pd\n\nspacex_df = pd.DataFrame({\n    'LaunchSite': ['CCAFS LC-40', 'CCAFS SLC-40', 'KSC LC-39A', 'VAFB SLC-4E'],\n    'Latitude': [28.5618571, 28.5618571, 28.6080585, 34.632093],\n    'Longitude': [-80.577366, -80.577366, -80.6039558, -120.610829]\n})\n\nsite_map = folium.Map(location=[30, -90], zoom_start=4)\n\nfor idx, site in spacex_df.iterrows():\n    folium.Marker(\n        location=[site['Latitude'], site['Longitude']],\n        popup=site['LaunchSite'],\n        icon=folium.Icon(color='red', icon='info-sign')\n    ).add_to(site_map)\n    \nformatter = \"function(num) {return L.Util.formatNum(num, 5);};\"\nmouse_position = MousePosition(\n    position='topright',\n    separator=' | ',\n    empty_string='NaN',\n    lng_first=True,\n    num_digits=5,\n    prefix='Coordinates:',\n    lat_formatter=formatter,\n    lng_formatter=formatter\n)\n\nsite_map.add_child(mouse_position)\n\nsite_map",
      "metadata": {
        "trusted": true
      },
      "outputs": [
        {
          "execution_count": 20,
          "output_type": "execute_result",
          "data": {
            "text/plain": "<folium.folium.Map at 0x656aa40>",
            "text/html": "<div style=\"width:100%;\"><div style=\"position:relative;width:100%;height:0;padding-bottom:60%;\"><span style=\"color:#565656\">Make this Notebook Trusted to load map: File -> Trust Notebook</span><iframe srcdoc=\"&lt;!DOCTYPE html&gt;\n&lt;html&gt;\n&lt;head&gt;\n    \n    &lt;meta http-equiv=&quot;content-type&quot; content=&quot;text/html; charset=UTF-8&quot; /&gt;\n    \n        &lt;script&gt;\n            L_NO_TOUCH = false;\n            L_DISABLE_3D = false;\n        &lt;/script&gt;\n    \n    &lt;style&gt;html, body {width: 100%;height: 100%;margin: 0;padding: 0;}&lt;/style&gt;\n    &lt;style&gt;#map {position:absolute;top:0;bottom:0;right:0;left:0;}&lt;/style&gt;\n    &lt;script src=&quot;https://cdn.jsdelivr.net/npm/leaflet@1.9.3/dist/leaflet.js&quot;&gt;&lt;/script&gt;\n    &lt;script src=&quot;https://code.jquery.com/jquery-3.7.1.min.js&quot;&gt;&lt;/script&gt;\n    &lt;script src=&quot;https://cdn.jsdelivr.net/npm/bootstrap@5.2.2/dist/js/bootstrap.bundle.min.js&quot;&gt;&lt;/script&gt;\n    &lt;script src=&quot;https://cdnjs.cloudflare.com/ajax/libs/Leaflet.awesome-markers/2.0.2/leaflet.awesome-markers.js&quot;&gt;&lt;/script&gt;\n    &lt;link rel=&quot;stylesheet&quot; href=&quot;https://cdn.jsdelivr.net/npm/leaflet@1.9.3/dist/leaflet.css&quot;/&gt;\n    &lt;link rel=&quot;stylesheet&quot; href=&quot;https://cdn.jsdelivr.net/npm/bootstrap@5.2.2/dist/css/bootstrap.min.css&quot;/&gt;\n    &lt;link rel=&quot;stylesheet&quot; href=&quot;https://netdna.bootstrapcdn.com/bootstrap/3.0.0/css/bootstrap-glyphicons.css&quot;/&gt;\n    &lt;link rel=&quot;stylesheet&quot; href=&quot;https://cdn.jsdelivr.net/npm/@fortawesome/fontawesome-free@6.2.0/css/all.min.css&quot;/&gt;\n    &lt;link rel=&quot;stylesheet&quot; href=&quot;https://cdnjs.cloudflare.com/ajax/libs/Leaflet.awesome-markers/2.0.2/leaflet.awesome-markers.css&quot;/&gt;\n    &lt;link rel=&quot;stylesheet&quot; href=&quot;https://cdn.jsdelivr.net/gh/python-visualization/folium/folium/templates/leaflet.awesome.rotate.min.css&quot;/&gt;\n    \n            &lt;meta name=&quot;viewport&quot; content=&quot;width=device-width,\n                initial-scale=1.0, maximum-scale=1.0, user-scalable=no&quot; /&gt;\n            &lt;style&gt;\n                #map_f5db5039aaba022d82491ae1f516cfcb {\n                    position: relative;\n                    width: 100.0%;\n                    height: 100.0%;\n                    left: 0.0%;\n                    top: 0.0%;\n                }\n                .leaflet-container { font-size: 1rem; }\n            &lt;/style&gt;\n        \n    &lt;script src=&quot;https://cdn.jsdelivr.net/gh/ardhi/Leaflet.MousePosition/src/L.Control.MousePosition.min.js&quot;&gt;&lt;/script&gt;\n    &lt;link rel=&quot;stylesheet&quot; href=&quot;https://cdn.jsdelivr.net/gh/ardhi/Leaflet.MousePosition/src/L.Control.MousePosition.min.css&quot;/&gt;\n&lt;/head&gt;\n&lt;body&gt;\n    \n    \n            &lt;div class=&quot;folium-map&quot; id=&quot;map_f5db5039aaba022d82491ae1f516cfcb&quot; &gt;&lt;/div&gt;\n        \n&lt;/body&gt;\n&lt;script&gt;\n    \n    \n            var map_f5db5039aaba022d82491ae1f516cfcb = L.map(\n                &quot;map_f5db5039aaba022d82491ae1f516cfcb&quot;,\n                {\n                    center: [30.0, -90.0],\n                    crs: L.CRS.EPSG3857,\n                    zoom: 4,\n                    zoomControl: true,\n                    preferCanvas: false,\n                }\n            );\n\n            \n\n        \n    \n            var tile_layer_bb2f7b1c97501463a982b814c741428c = L.tileLayer(\n                &quot;https://tile.openstreetmap.org/{z}/{x}/{y}.png&quot;,\n                {&quot;attribution&quot;: &quot;\\u0026copy; \\u003ca href=\\&quot;https://www.openstreetmap.org/copyright\\&quot;\\u003eOpenStreetMap\\u003c/a\\u003e contributors&quot;, &quot;detectRetina&quot;: false, &quot;maxNativeZoom&quot;: 19, &quot;maxZoom&quot;: 19, &quot;minZoom&quot;: 0, &quot;noWrap&quot;: false, &quot;opacity&quot;: 1, &quot;subdomains&quot;: &quot;abc&quot;, &quot;tms&quot;: false}\n            );\n        \n    \n            tile_layer_bb2f7b1c97501463a982b814c741428c.addTo(map_f5db5039aaba022d82491ae1f516cfcb);\n        \n    \n            var marker_53d2e82aefc747724e2f65f722156018 = L.marker(\n                [28.5618571, -80.577366],\n                {}\n            ).addTo(map_f5db5039aaba022d82491ae1f516cfcb);\n        \n    \n            var icon_879f336ddbb3ccc2f47daecb0d2341ea = L.AwesomeMarkers.icon(\n                {&quot;extraClasses&quot;: &quot;fa-rotate-0&quot;, &quot;icon&quot;: &quot;info-sign&quot;, &quot;iconColor&quot;: &quot;white&quot;, &quot;markerColor&quot;: &quot;red&quot;, &quot;prefix&quot;: &quot;glyphicon&quot;}\n            );\n            marker_53d2e82aefc747724e2f65f722156018.setIcon(icon_879f336ddbb3ccc2f47daecb0d2341ea);\n        \n    \n        var popup_903cbea346ab122ba01f9e4f72fc8d88 = L.popup({&quot;maxWidth&quot;: &quot;100%&quot;});\n\n        \n            \n                var html_aa813f4d3212c3b62dc4779f82265fd8 = $(`&lt;div id=&quot;html_aa813f4d3212c3b62dc4779f82265fd8&quot; style=&quot;width: 100.0%; height: 100.0%;&quot;&gt;CCAFS LC-40&lt;/div&gt;`)[0];\n                popup_903cbea346ab122ba01f9e4f72fc8d88.setContent(html_aa813f4d3212c3b62dc4779f82265fd8);\n            \n        \n\n        marker_53d2e82aefc747724e2f65f722156018.bindPopup(popup_903cbea346ab122ba01f9e4f72fc8d88)\n        ;\n\n        \n    \n    \n            var marker_026a1104b0b36f6eac00befdd04145c4 = L.marker(\n                [28.5618571, -80.577366],\n                {}\n            ).addTo(map_f5db5039aaba022d82491ae1f516cfcb);\n        \n    \n            var icon_bad00ea996323da6375af5994240e9d7 = L.AwesomeMarkers.icon(\n                {&quot;extraClasses&quot;: &quot;fa-rotate-0&quot;, &quot;icon&quot;: &quot;info-sign&quot;, &quot;iconColor&quot;: &quot;white&quot;, &quot;markerColor&quot;: &quot;red&quot;, &quot;prefix&quot;: &quot;glyphicon&quot;}\n            );\n            marker_026a1104b0b36f6eac00befdd04145c4.setIcon(icon_bad00ea996323da6375af5994240e9d7);\n        \n    \n        var popup_c3130e91a7c9efc936d03b9bebbf3bce = L.popup({&quot;maxWidth&quot;: &quot;100%&quot;});\n\n        \n            \n                var html_daeb9ca03641cf3d7364084fb46b1b1a = $(`&lt;div id=&quot;html_daeb9ca03641cf3d7364084fb46b1b1a&quot; style=&quot;width: 100.0%; height: 100.0%;&quot;&gt;CCAFS SLC-40&lt;/div&gt;`)[0];\n                popup_c3130e91a7c9efc936d03b9bebbf3bce.setContent(html_daeb9ca03641cf3d7364084fb46b1b1a);\n            \n        \n\n        marker_026a1104b0b36f6eac00befdd04145c4.bindPopup(popup_c3130e91a7c9efc936d03b9bebbf3bce)\n        ;\n\n        \n    \n    \n            var marker_7b6354b40075bf998cbb32df7977ffd4 = L.marker(\n                [28.6080585, -80.6039558],\n                {}\n            ).addTo(map_f5db5039aaba022d82491ae1f516cfcb);\n        \n    \n            var icon_7bdf74d70c03ac193a7f5934e7cda8b8 = L.AwesomeMarkers.icon(\n                {&quot;extraClasses&quot;: &quot;fa-rotate-0&quot;, &quot;icon&quot;: &quot;info-sign&quot;, &quot;iconColor&quot;: &quot;white&quot;, &quot;markerColor&quot;: &quot;red&quot;, &quot;prefix&quot;: &quot;glyphicon&quot;}\n            );\n            marker_7b6354b40075bf998cbb32df7977ffd4.setIcon(icon_7bdf74d70c03ac193a7f5934e7cda8b8);\n        \n    \n        var popup_ac1c33a7c2e230789daf64b82b4ec646 = L.popup({&quot;maxWidth&quot;: &quot;100%&quot;});\n\n        \n            \n                var html_20d134d916a92ddefc7e8d030d756b34 = $(`&lt;div id=&quot;html_20d134d916a92ddefc7e8d030d756b34&quot; style=&quot;width: 100.0%; height: 100.0%;&quot;&gt;KSC LC-39A&lt;/div&gt;`)[0];\n                popup_ac1c33a7c2e230789daf64b82b4ec646.setContent(html_20d134d916a92ddefc7e8d030d756b34);\n            \n        \n\n        marker_7b6354b40075bf998cbb32df7977ffd4.bindPopup(popup_ac1c33a7c2e230789daf64b82b4ec646)\n        ;\n\n        \n    \n    \n            var marker_f305b821d01b1ce1ab5ff1ad37c41cb6 = L.marker(\n                [34.632093, -120.610829],\n                {}\n            ).addTo(map_f5db5039aaba022d82491ae1f516cfcb);\n        \n    \n            var icon_b6fac0388eed21ca8ec592949bfed197 = L.AwesomeMarkers.icon(\n                {&quot;extraClasses&quot;: &quot;fa-rotate-0&quot;, &quot;icon&quot;: &quot;info-sign&quot;, &quot;iconColor&quot;: &quot;white&quot;, &quot;markerColor&quot;: &quot;red&quot;, &quot;prefix&quot;: &quot;glyphicon&quot;}\n            );\n            marker_f305b821d01b1ce1ab5ff1ad37c41cb6.setIcon(icon_b6fac0388eed21ca8ec592949bfed197);\n        \n    \n        var popup_dbd202fc238be50b6b16bdb80c11d6c8 = L.popup({&quot;maxWidth&quot;: &quot;100%&quot;});\n\n        \n            \n                var html_886c6a7e546e96b3570aa11a8e04ac56 = $(`&lt;div id=&quot;html_886c6a7e546e96b3570aa11a8e04ac56&quot; style=&quot;width: 100.0%; height: 100.0%;&quot;&gt;VAFB SLC-4E&lt;/div&gt;`)[0];\n                popup_dbd202fc238be50b6b16bdb80c11d6c8.setContent(html_886c6a7e546e96b3570aa11a8e04ac56);\n            \n        \n\n        marker_f305b821d01b1ce1ab5ff1ad37c41cb6.bindPopup(popup_dbd202fc238be50b6b16bdb80c11d6c8)\n        ;\n\n        \n    \n    \n            var mouse_position_475ff49ff0629ee4580106f48cd986e7 = new L.Control.MousePosition(\n                {&quot;emptyString&quot;: &quot;NaN&quot;, &quot;lngFirst&quot;: true, &quot;numDigits&quot;: 5, &quot;position&quot;: &quot;topright&quot;, &quot;prefix&quot;: &quot;Coordinates:&quot;, &quot;separator&quot;: &quot; | &quot;}\n            );\n            mouse_position_475ff49ff0629ee4580106f48cd986e7.options[&quot;latFormatter&quot;] =\n                function(num) {return L.Util.formatNum(num, 5);};;\n            mouse_position_475ff49ff0629ee4580106f48cd986e7.options[&quot;lngFormatter&quot;] =\n                function(num) {return L.Util.formatNum(num, 5);};;\n            map_f5db5039aaba022d82491ae1f516cfcb.addControl(mouse_position_475ff49ff0629ee4580106f48cd986e7);\n        \n&lt;/script&gt;\n&lt;/html&gt;\" style=\"position:absolute;width:100%;height:100%;left:0;top:0;border:none !important;\" allowfullscreen webkitallowfullscreen mozallowfullscreen></iframe></div></div>"
          },
          "metadata": {}
        }
      ],
      "execution_count": 20
    },
    {
      "cell_type": "markdown",
      "source": "Now zoom in to a launch site and explore its proximity to see if you can easily find any railway, highway, coastline, etc. Move your mouse to these points and mark down their coordinates (shown on the top-left) in order to the distance to the launch site.\n",
      "metadata": {}
    },
    {
      "cell_type": "markdown",
      "source": "Now zoom in to a launch site and explore its proximity to see if you can easily find any railway, highway, coastline, etc. Move your mouse to these points and mark down their coordinates (shown on the top-left) in order to the distance to the launch site.\n",
      "metadata": {}
    },
    {
      "cell_type": "code",
      "source": "from math import sin, cos, sqrt, atan2, radians\n\ndef calculate_distance(lat1, lon1, lat2, lon2):\n    # approximate radius of earth in km\n    R = 6373.0\n\n    lat1 = radians(lat1)\n    lon1 = radians(lon1)\n    lat2 = radians(lat2)\n    lon2 = radians(lon2)\n\n    dlon = lon2 - lon1\n    dlat = lat2 - lat1\n\n    a = sin(dlat / 2)**2 + cos(lat1) * cos(lat2) * sin(dlon / 2)**2\n    c = 2 * atan2(sqrt(a), sqrt(1 - a))\n\n    distance = R * c\n    return distance",
      "metadata": {
        "trusted": true
      },
      "outputs": [],
      "execution_count": null
    },
    {
      "cell_type": "markdown",
      "source": "*TODO:* Mark down a point on the closest coastline using MousePosition and calculate the distance between the coastline point and the launch site.\n",
      "metadata": {}
    },
    {
      "cell_type": "code",
      "source": "from folium.plugins import MousePosition\nfrom math import sin, cos, sqrt, atan2, radians\n\n# Initialize the map\nsite_map = folium.Map(location=nasa_coordinate, zoom_start=5)\n\n# Create a MarkerCluster object\nmarker_cluster = MarkerCluster()\n\n# Add markers for each launch site\nfor index, record in spacex_df.iterrows():\n    lat = float(record['Lat'])\n    long = float(record['Long'])\n    label = f\"{record['Launch Site']}: {'Success' if record['class'] == 1 else 'Failure'}\"\n    \n    marker = folium.Marker(\n        [lat, long],\n        icon=folium.Icon(color='white', icon_color=record['marker_color']),\n        popup=label\n    )\n    marker_cluster.add_child(marker)\n\n# Add marker_cluster to the map\nsite_map.add_child(marker_cluster)\n\n# Add Mouse Position to get the coordinate (Lat, Long) for a mouse over on the map\nformatter = \"function(num) {return L.Util.formatNum(num, 5);};\"\nmouse_position = MousePosition(\n    position='topright',\n    separator=' Long: ',\n    empty_string='NaN',\n    lng_first=False,\n    num_digits=20,\n    prefix='Lat:',\n    lat_formatter=formatter,\n    lng_formatter=formatter,\n)\nsite_map.add_child(mouse_position)\n\n# Define the distance calculation function\ndef calculate_distance(lat1, lon1, lat2, lon2):\n    # approximate radius of earth in km\n    R = 6373.0\n    lat1 = radians(lat1)\n    lon1 = radians(lon1)\n    lat2 = radians(lat2)\n    lon2 = radians(lon2)\n    dlon = lon2 - lon1\n    dlat = lat2 - lat1\n    a = sin(dlat / 2)**2 + cos(lat1) * cos(lat2) * sin(dlon / 2)**2\n    c = 2 * atan2(sqrt(a), sqrt(1 - a))\n    distance = R * c\n    return distance\n\n# Function to find the closest coastline coordinate\ndef find_closest_coastline(launch_site_lat, launch_site_lon):\n    # Example coastline coordinates (you should replace these with actual data)\n    coastlines = [\n        (28.56367, -80.57163),\n        (28.57367, -80.58163),\n        (28.55367, -80.56163),\n    ]\n    \n    closest_distance = float('inf')\n    closest_coordinate = None\n    \n    for coast_lat, coast_lon in coastlines:\n        distance = calculate_distance(launch_site_lat, launch_site_lon, coast_lat, coast_lon)\n        if distance < closest_distance:\n            closest_distance = distance\n            closest_coordinate = (coast_lat, coast_lon)\n    \n    return closest_coordinate, closest_distance\n\n# Let the user choose a launch site\nlaunch_sites = spacex_df['Launch Site'].unique().tolist()\nprint(\"Available launch sites:\")\nfor i, site in enumerate(launch_sites, 1):\n    print(f\"{i}. {site}\")\n\nchoice = int(input(\"Choose a launch site (enter the number): \")) - 1\nselected_site = launch_sites[choice]\n\n# Get coordinates of the selected launch site\nsite_data = spacex_df[spacex_df['Launch Site'] == selected_site].iloc[0]\nlaunch_site_lat = site_data['Lat']\nlaunch_site_lon = site_data['Long']\n\n# Find the closest coastline\nclosest_coastline, distance_coastline = find_closest_coastline(launch_site_lat, launch_site_lon)\n\nprint(f\"\\nSelected Launch Site: {selected_site}\")\nprint(f\"Launch Site Coordinates: Lat: {launch_site_lat}, Lon: {launch_site_lon}\")\nprint(f\"Closest Coastline Coordinates: Lat: {closest_coastline[0]}, Lon: {closest_coastline[1]}\")\nprint(f\"Distance to closest coastline: {distance_coastline:.2f} km\")\n\n# Display the map\nsite_map",
      "metadata": {
        "trusted": true
      },
      "outputs": [],
      "execution_count": null
    },
    {
      "cell_type": "code",
      "source": "# Create and add a folium.Marker on your selected closest coastline point on the map\n# Display the distance between coastline point and launch site using the icon property \n# for example\n# distance_marker = folium.Marker(\n#    coordinate,\n#    icon=DivIcon(\n#        icon_size=(20,20),\n#        icon_anchor=(0,0),\n#        html='<div style=\"font-size: 12; color:#d35400;\"><b>%s</b></div>' % \"{:10.2f} KM\".format(distance),\n#        )\n#    )\n\n\nfrom folium.plugins import MousePosition\nfrom folium.features import DivIcon\nfrom math import sin, cos, sqrt, atan2, radians\n\n# Initialize the map\nsite_map = folium.Map(location=nasa_coordinate, zoom_start=5)\n\n# Create a MarkerCluster object\nmarker_cluster = MarkerCluster()\n\n# Add markers for each launch site\nfor index, record in spacex_df.iterrows():\n    lat = float(record['Lat'])\n    long = float(record['Long'])\n    label = f\"{record['Launch Site']}: {'Success' if record['class'] == 1 else 'Failure'}\"\n    \n    marker = folium.Marker(\n        [lat, long],\n        icon=folium.Icon(color='white', icon_color=record['marker_color']),\n        popup=label\n    )\n    marker_cluster.add_child(marker)\n\n# Add marker_cluster to the map\nsite_map.add_child(marker_cluster)\n\n# Add Mouse Position to get the coordinate (Lat, Long) for a mouse over on the map\nformatter = \"function(num) {return L.Util.formatNum(num, 5);};\"\nmouse_position = MousePosition(\n    position='topright',\n    separator=' Long: ',\n    empty_string='NaN',\n    lng_first=False,\n    num_digits=20,\n    prefix='Lat:',\n    lat_formatter=formatter,\n    lng_formatter=formatter,\n)\nsite_map.add_child(mouse_position)\n\n# Define the distance calculation function\ndef calculate_distance(lat1, lon1, lat2, lon2):\n    # approximate radius of earth in km\n    R = 6373.0\n    lat1 = radians(lat1)\n    lon1 = radians(lon1)\n    lat2 = radians(lat2)\n    lon2 = radians(lon2)\n    dlon = lon2 - lon1\n    dlat = lat2 - lat1\n    a = sin(dlat / 2)**2 + cos(lat1) * cos(lat2) * sin(dlon / 2)**2\n    c = 2 * atan2(sqrt(a), sqrt(1 - a))\n    distance = R * c\n    return distance\n\n# Function to find the closest coastline coordinate\ndef find_closest_coastline(launch_site_lat, launch_site_lon):\n    # Example coastline coordinates (you should replace these with actual data)\n    coastlines = [\n        (28.56367, -80.57163),\n        (28.57367, -80.58163),\n        (28.55367, -80.56163),\n    ]\n    \n    closest_distance = float('inf')\n    closest_coordinate = None\n    \n    for coast_lat, coast_lon in coastlines:\n        distance = calculate_distance(launch_site_lat, launch_site_lon, coast_lat, coast_lon)\n        if distance < closest_distance:\n            closest_distance = distance\n            closest_coordinate = (coast_lat, coast_lon)\n    \n    return closest_coordinate, closest_distance\n\n# Let the user choose a launch site\nlaunch_sites = spacex_df['Launch Site'].unique().tolist()\nprint(\"Available launch sites:\")\nfor i, site in enumerate(launch_sites, 1):\n    print(f\"{i}. {site}\")\n\nchoice = int(input(\"Choose a launch site (enter the number): \")) - 1\nselected_site = launch_sites[choice]\n\n# Get coordinates of the selected launch site\nsite_data = spacex_df[spacex_df['Launch Site'] == selected_site].iloc[0]\nlaunch_site_lat = site_data['Lat']\nlaunch_site_lon = site_data['Long']\n\n# Find the closest coastline\nclosest_coastline, distance_coastline = find_closest_coastline(launch_site_lat, launch_site_lon)\n\n# Add a marker for the selected launch site\nlaunch_site_marker = folium.Marker(\n    [launch_site_lat, launch_site_lon],\n    icon=folium.Icon(color='red', icon='info-sign'),\n    popup=f\"Launch Site: {selected_site}\"\n)\nsite_map.add_child(launch_site_marker)\n\n# Add a marker for the closest coastline point\ncoastline_marker = folium.Marker(\n    closest_coastline,\n    icon=folium.Icon(color='blue', icon='info-sign'),\n    popup=\"Closest Coastline Point\"\n)\nsite_map.add_child(coastline_marker)\n\n# Add a marker to display the distance\nmidpoint = [(launch_site_lat + closest_coastline[0])/2, (launch_site_lon + closest_coastline[1])/2]\ndistance_marker = folium.Marker(\n    midpoint,\n    icon=DivIcon(\n        icon_size=(20,20),\n        icon_anchor=(0,0),\n        html=f'<div style=\"font-size: 12; color:#d35400;\"><b>{distance_coastline:.2f} KM</b></div>'\n    )\n)\nsite_map.add_child(distance_marker)\n\n# Draw a line between the launch site and coastline point\nfolium.PolyLine(locations=[\n    [launch_site_lat, launch_site_lon],\n    closest_coastline\n], color=\"green\", weight=2, opacity=0.8).add_to(site_map)\n\n# Fit the map to show all markers\nsite_map.fit_bounds(site_map.get_bounds())\n\n# Display the map\nsite_map\n\n# Print additional information\nprint(f\"\\nSelected Launch Site: {selected_site}\")\nprint(f\"Launch Site Coordinates: Lat: {launch_site_lat}, Lon: {launch_site_lon}\")\nprint(f\"Closest Coastline Coordinates: Lat: {closest_coastline[0]}, Lon: {closest_coastline[1]}\")\nprint(f\"Distance to closest coastline: {distance_coastline:.2f} km\")",
      "metadata": {
        "trusted": true
      },
      "outputs": [],
      "execution_count": null
    },
    {
      "cell_type": "markdown",
      "source": "*TODO:* Draw a `PolyLine` between a launch site to the selected coastline point\n",
      "metadata": {}
    },
    {
      "cell_type": "code",
      "source": "# Create a `folium.PolyLine` object using the coastline coordinates and launch site coordinate\n# lines=folium.PolyLine(locations=coordinates, weight=1)\nfrom folium.plugins import MousePosition\nfrom folium.features import DivIcon\nfrom math import sin, cos, sqrt, atan2, radians\n\n# Initialize the map\nsite_map = folium.Map(location=nasa_coordinate, zoom_start=5)\n\n# Create a MarkerCluster object\nmarker_cluster = MarkerCluster()\n\n# Add markers for each launch site\nfor index, record in spacex_df.iterrows():\n    lat = float(record['Lat'])\n    long = float(record['Long'])\n    label = f\"{record['Launch Site']}: {'Success' if record['class'] == 1 else 'Failure'}\"\n    \n    marker = folium.Marker(\n        [lat, long],\n        icon=folium.Icon(color='white', icon_color=record['marker_color']),\n        popup=label\n    )\n    marker_cluster.add_child(marker)\n\n# Add marker_cluster to the map\nsite_map.add_child(marker_cluster)\n\n# Add Mouse Position to get the coordinate (Lat, Long) for a mouse over on the map\nformatter = \"function(num) {return L.Util.formatNum(num, 5);};\"\nmouse_position = MousePosition(\n    position='topright',\n    separator=' Long: ',\n    empty_string='NaN',\n    lng_first=False,\n    num_digits=20,\n    prefix='Lat:',\n    lat_formatter=formatter,\n    lng_formatter=formatter,\n)\nsite_map.add_child(mouse_position)\n\n# Define the distance calculation function\ndef calculate_distance(lat1, lon1, lat2, lon2):\n    # approximate radius of earth in km\n    R = 6373.0\n    lat1 = radians(lat1)\n    lon1 = radians(lon1)\n    lat2 = radians(lat2)\n    lon2 = radians(lon2)\n    dlon = lon2 - lon1\n    dlat = lat2 - lat1\n    a = sin(dlat / 2)**2 + cos(lat1) * cos(lat2) * sin(dlon / 2)**2\n    c = 2 * atan2(sqrt(a), sqrt(1 - a))\n    distance = R * c\n    return distance\n\n# Function to find the closest coastline coordinate\ndef find_closest_coastline(launch_site_lat, launch_site_lon):\n    # Example coastline coordinates (you should replace these with actual data)\n    coastlines = [\n        (28.56367, -80.57163),\n        (28.57367, -80.58163),\n        (28.55367, -80.56163),\n    ]\n    \n    closest_distance = float('inf')\n    closest_coordinate = None\n    \n    for coast_lat, coast_lon in coastlines:\n        distance = calculate_distance(launch_site_lat, launch_site_lon, coast_lat, coast_lon)\n        if distance < closest_distance:\n            closest_distance = distance\n            closest_coordinate = (coast_lat, coast_lon)\n    \n    return closest_coordinate, closest_distance\n\n# Let the user choose a launch site\nlaunch_sites = spacex_df['Launch Site'].unique().tolist()\nprint(\"Available launch sites:\")\nfor i, site in enumerate(launch_sites, 1):\n    print(f\"{i}. {site}\")\n\nchoice = int(input(\"Choose a launch site (enter the number): \")) - 1\nselected_site = launch_sites[choice]\n\n# Get coordinates of the selected launch site\nsite_data = spacex_df[spacex_df['Launch Site'] == selected_site].iloc[0]\nlaunch_site_lat = site_data['Lat']\nlaunch_site_lon = site_data['Long']\n\n# Find the closest coastline\nclosest_coastline, distance_coastline = find_closest_coastline(launch_site_lat, launch_site_lon)\n\n# Add a marker for the selected launch site\nlaunch_site_marker = folium.Marker(\n    [launch_site_lat, launch_site_lon],\n    icon=folium.Icon(color='red', icon='info-sign'),\n    popup=f\"Launch Site: {selected_site}\"\n)\nsite_map.add_child(launch_site_marker)\n\n# Add a marker for the closest coastline point\ncoastline_marker = folium.Marker(\n    closest_coastline,\n    icon=folium.Icon(color='blue', icon='info-sign'),\n    popup=\"Closest Coastline Point\"\n)\nsite_map.add_child(coastline_marker)\n\n# Add a marker to display the distance\nmidpoint = [(launch_site_lat + closest_coastline[0])/2, (launch_site_lon + closest_coastline[1])/2]\ndistance_marker = folium.Marker(\n    midpoint,\n    icon=DivIcon(\n        icon_size=(20,20),\n        icon_anchor=(0,0),\n        html=f'<div style=\"font-size: 12; color:#d35400;\"><b>{distance_coastline:.2f} KM</b></div>'\n    )\n)\nsite_map.add_child(distance_marker)\n\n# Draw a PolyLine between the launch site and the closest coastline point\ncoordinates = [\n    [launch_site_lat, launch_site_lon],\n    closest_coastline\n]\nlines = folium.PolyLine(locations=coordinates, weight=2, color='red', opacity=0.8)\nsite_map.add_child(lines)\n\n# Fit the map to show all markers\nsite_map.fit_bounds(site_map.get_bounds())\n\n# Display the map\nsite_map\n\n# Print additional information\nprint(f\"\\nSelected Launch Site: {selected_site}\")\nprint(f\"Launch Site Coordinates: Lat: {launch_site_lat}, Lon: {launch_site_lon}\")\nprint(f\"Closest Coastline Coordinates: Lat: {closest_coastline[0]}, Lon: {closest_coastline[1]}\")\nprint(f\"Distance to closest coastline: {distance_coastline:.2f} km\")",
      "metadata": {
        "trusted": true
      },
      "outputs": [],
      "execution_count": null
    },
    {
      "cell_type": "markdown",
      "source": "Your updated map with distance line should look like the following screenshot:\n",
      "metadata": {}
    },
    {
      "cell_type": "markdown",
      "source": "<center>\n    <img src=\"https://cf-courses-data.s3.us.cloud-object-storage.appdomain.cloud/IBM-DS0321EN-SkillsNetwork/labs/module_3/images/launch_site_marker_distance.png\">\n</center>\n",
      "metadata": {}
    },
    {
      "cell_type": "markdown",
      "source": "*TODO:* Similarly, you can draw a line betwee a launch site to its closest city, railway, highway, etc. You need to use `MousePosition` to find the their coordinates on the map first\n",
      "metadata": {}
    },
    {
      "cell_type": "markdown",
      "source": "A railway map symbol may look like this:\n",
      "metadata": {}
    },
    {
      "cell_type": "markdown",
      "source": "<center>\n    <img src=\"https://cf-courses-data.s3.us.cloud-object-storage.appdomain.cloud/IBM-DS0321EN-SkillsNetwork/labs/module_3/images/railway.png\">\n</center>\n",
      "metadata": {}
    },
    {
      "cell_type": "markdown",
      "source": "A highway map symbol may look like this:\n",
      "metadata": {}
    },
    {
      "cell_type": "markdown",
      "source": "<center>\n    <img src=\"https://cf-courses-data.s3.us.cloud-object-storage.appdomain.cloud/IBM-DS0321EN-SkillsNetwork/labs/module_3/images/highway.png\">\n</center>\n",
      "metadata": {}
    },
    {
      "cell_type": "markdown",
      "source": "A city map symbol may look like this:\n",
      "metadata": {}
    },
    {
      "cell_type": "markdown",
      "source": "<center>\n    <img src=\"https://cf-courses-data.s3.us.cloud-object-storage.appdomain.cloud/IBM-DS0321EN-SkillsNetwork/labs/module_3/images/city.png\">\n</center>\n",
      "metadata": {}
    },
    {
      "cell_type": "code",
      "source": "# Create a marker with distance to a closest city, railway, highway, etc.\n# Draw a line between the marker to the launch site\nimport folium\nfrom folium.plugins import MousePosition, MarkerCluster\nfrom folium.features import DivIcon\nfrom math import sin, cos, sqrt, atan2, radians\n\n# Initialize the map\nsite_map = folium.Map(location=nasa_coordinate, zoom_start=5)\n\n# Create a MarkerCluster object\nmarker_cluster = MarkerCluster()\n\n# Add markers for each launch site\nfor index, record in spacex_df.iterrows():\n    lat = float(record['Lat'])\n    long = float(record['Long'])\n    label = f\"{record['Launch Site']}: {'Success' if record['class'] == 1 else 'Failure'}\"\n    \n    marker = folium.Marker(\n        [lat, long],\n        icon=folium.Icon(color='white', icon_color=record['marker_color']),\n        popup=label\n    )\n    marker_cluster.add_child(marker)\n\n# Add marker_cluster to the map\nsite_map.add_child(marker_cluster)\n\n# Add Mouse Position to get the coordinate (Lat, Long) for a mouse over on the map\nformatter = \"function(num) {return L.Util.formatNum(num, 5);};\"\nmouse_position = MousePosition(\n    position='topright',\n    separator=' Long: ',\n    empty_string='NaN',\n    lng_first=False,\n    num_digits=20,\n    prefix='Lat:',\n    lat_formatter=formatter,\n    lng_formatter=formatter,\n)\nsite_map.add_child(mouse_position)\n\n# Define the distance calculation function\ndef calculate_distance(lat1, lon1, lat2, lon2):\n    R = 6373.0\n    lat1, lon1, lat2, lon2 = map(radians, [lat1, lon1, lat2, lon2])\n    dlon = lon2 - lon1\n    dlat = lat2 - lat1\n    a = sin(dlat / 2)**2 + cos(lat1) * cos(lat2) * sin(dlon / 2)**2\n    c = 2 * atan2(sqrt(a), sqrt(1 - a))\n    distance = R * c\n    return distance\n\n# Function to find the closest point of interest\ndef find_closest_point(launch_site_lat, launch_site_lon, points):\n    closest_distance = float('inf')\n    closest_point = None\n    \n    for name, (lat, lon) in points.items():\n        distance = calculate_distance(launch_site_lat, launch_site_lon, lat, lon)\n        if distance < closest_distance:\n            closest_distance = distance\n            closest_point = (name, (lat, lon))\n    \n    return closest_point, closest_distance\n\n# Let the user choose a launch site\nlaunch_sites = spacex_df['Launch Site'].unique().tolist()\nprint(\"Available launch sites:\")\nfor i, site in enumerate(launch_sites, 1):\n    print(f\"{i}. {site}\")\n\nchoice = int(input(\"Choose a launch site (enter the number): \")) - 1\nselected_site = launch_sites[choice]\n\n# Get coordinates of the selected launch site\nsite_data = spacex_df[spacex_df['Launch Site'] == selected_site].iloc[0]\nlaunch_site_lat = site_data['Lat']\nlaunch_site_lon = site_data['Long']\n\n# Define points of interest (replace with actual data)\npoints_of_interest = {\n    \"City\": (28.3922, -80.6077),  # Titusville, FL\n    \"Railway\": (28.5722, -80.5772),\n    \"Highway\": (28.5638, -80.5777),\n    \"Coastline\": (28.5728, -80.5668)\n}\n\n# Add a marker for the selected launch site\nlaunch_site_marker = folium.Marker(\n    [launch_site_lat, launch_site_lon],\n    icon=folium.Icon(color='red', icon='info-sign'),\n    popup=f\"Launch Site: {selected_site}\"\n)\nsite_map.add_child(launch_site_marker)\n\n# Colors for different types of points\ncolor_map = {\n    \"City\": \"purple\",\n    \"Railway\": \"black\",\n    \"Highway\": \"orange\",\n    \"Coastline\": \"blue\"\n}\n\n# Find and mark the closest point for each type\nfor point_type, coordinates in points_of_interest.items():\n    closest_point, distance = find_closest_point(launch_site_lat, launch_site_lon, {point_type: coordinates})\n    \n    # Add marker for the point of interest\n    poi_marker = folium.Marker(\n        coordinates,\n        icon=folium.Icon(color=color_map[point_type], icon='info-sign'),\n        popup=f\"Closest {point_type}\"\n    )\n    site_map.add_child(poi_marker)\n    \n    # Add a marker to display the distance\n    midpoint = [(launch_site_lat + coordinates[0])/2, (launch_site_lon + coordinates[1])/2]\n    distance_marker = folium.Marker(\n        midpoint,\n        icon=DivIcon(\n            icon_size=(20,20),\n            icon_anchor=(0,0),\n            html=f'<div style=\"font-size: 12; color:{color_map[point_type]};\"><b>{distance:.2f} KM</b></div>'\n        )\n    )\n    site_map.add_child(distance_marker)\n    \n    # Draw a PolyLine between the launch site and the point of interest\n    line_coordinates = [\n        [launch_site_lat, launch_site_lon],\n        coordinates\n    ]\n    line = folium.PolyLine(locations=line_coordinates, weight=2, color=color_map[point_type], opacity=0.8)\n    site_map.add_child(line)\n    \n    print(f\"Distance to closest {point_type}: {distance:.2f} km\")\n\n# Fit the map to show all markers\nsite_map.fit_bounds(site_map.get_bounds())\n\n# Display the map\nsite_map\n\nprint(f\"\\nSelected Launch Site: {selected_site}\")\nprint(f\"Launch Site Coordinates: Lat: {launch_site_lat}, Lon: {launch_site_lon}\")",
      "metadata": {
        "trusted": true
      },
      "outputs": [],
      "execution_count": null
    },
    {
      "cell_type": "code",
      "source": "",
      "metadata": {},
      "outputs": [],
      "execution_count": null
    },
    {
      "cell_type": "code",
      "source": "",
      "metadata": {},
      "outputs": [],
      "execution_count": null
    },
    {
      "cell_type": "markdown",
      "source": "After you plot distance lines to the proximities, you can answer the following questions easily:\n\n*   Are launch sites in close proximity to railways?\n*   Are launch sites in close proximity to highways?\n*   Are launch sites in close proximity to coastline?\n*   Do launch sites keep certain distance away from cities?\n\nAlso please try to explain your findings.\n",
      "metadata": {}
    },
    {
      "cell_type": "markdown",
      "source": "# Next Steps:\n\nNow you have discovered many interesting insights related to the launch sites' location using folium, in a very interactive way. Next, you will need to build a dashboard using Ploty Dash on detailed launch records.\n",
      "metadata": {}
    },
    {
      "cell_type": "markdown",
      "source": "## Authors\n",
      "metadata": {}
    },
    {
      "cell_type": "markdown",
      "source": "[Pratiksha Verma](https://www.linkedin.com/in/pratiksha-verma-6487561b1/)\n",
      "metadata": {}
    },
    {
      "cell_type": "markdown",
      "source": "<!--## Change Log--!>\n",
      "metadata": {}
    },
    {
      "cell_type": "markdown",
      "source": "<!--| Date (YYYY-MM-DD) | Version | Changed By      | Change Description      |\n| ----------------- | ------- | -------------   | ----------------------- |\n| 2022-11-09        | 1.0     | Pratiksha Verma | Converted initial version to Jupyterlite|--!>\n",
      "metadata": {}
    },
    {
      "cell_type": "markdown",
      "source": "### <h3 align=\"center\"> IBM Corporation 2022. All rights reserved. <h3/>\n",
      "metadata": {}
    }
  ]
}